{
  "nbformat": 4,
  "nbformat_minor": 0,
  "metadata": {
    "colab": {
      "name": "Operações e tipos de variáveis.ipynb",
      "provenance": [],
      "collapsed_sections": []
    },
    "kernelspec": {
      "name": "python3",
      "display_name": "Python 3"
    }
  },
  "cells": [
    {
      "cell_type": "markdown",
      "metadata": {
        "id": "lZMtNrYdrMQ0",
        "colab_type": "text"
      },
      "source": [
        "###### **Minha Trilha de Aprendizado**\n",
        "###### *by Anderson Felipe [linkedin](www.linkedin.com/in/andersonftdj)/[GitHub](https://github.com/andersonftdj)*\n",
        "---\n",
        "\n",
        "# Python\n",
        "\n",
        "Uma das habilidades fundamentais para o profissional de Data Science é o domínio em **Python**.\n",
        "\n",
        "Python é umas das linguagens de programação mais práticas, amadas e empregáveis hoje em dia para a área de data science.\n",
        "\n",
        "\n",
        "<center> <img width=\"20%\" src = \"https://vignette.wikia.nocookie.net/lpunb/images/b/b1/Logo_Python.png/revision/latest?cb=20130301171443\" ></center>\n",
        "\n",
        "\n",
        "\n",
        "\n",
        "A comunidade altamenta ativa, o vasto número de bibliotecas, a praticidade para trabalhar com estatística, machine learning e inteligência artifical são alguns dos atrativos da linguagem.\n",
        "\n",
        "A curva de aprendizado é uma das melhores! Não precisar declarar varáveis, não precisar dos \"`;`\" que tanto dão dor de cabeça em outras linguagens são apenas um dos motivos que faz o python ser uma das melhores linguagens de programação para data science existente.\n",
        "\n",
        "\n",
        "---\n",
        "\n",
        "\n"
      ]
    },
    {
      "cell_type": "markdown",
      "metadata": {
        "id": "oHoOZrAyy7xh",
        "colab_type": "text"
      },
      "source": [
        "## Operações\n",
        "Para realizarmos cálculos em Python, temos os seguintes operadores disponíveis:\n",
        "\n",
        "*   `+`  Adição\n",
        "*   `-`  Subtração \n",
        "*   `*`  Multiplicação\n",
        "*   `/`  Divisão\n",
        "*   `**` Exponenciação\n",
        "*   `//` Divisão com resultado inteiro\n",
        "\n",
        "Veja a simplicidade de usar cada um deles:\n",
        "\n"
      ]
    },
    {
      "cell_type": "code",
      "metadata": {
        "id": "TVYYYhRG5rUu",
        "colab_type": "code",
        "colab": {
          "base_uri": "https://localhost:8080/",
          "height": 33
        },
        "outputId": "79d85e07-98c6-4d32-a737-23957972bbbc"
      },
      "source": [
        "# Adição\n",
        "1+1"
      ],
      "execution_count": 17,
      "outputs": [
        {
          "output_type": "execute_result",
          "data": {
            "text/plain": [
              "2"
            ]
          },
          "metadata": {
            "tags": []
          },
          "execution_count": 17
        }
      ]
    },
    {
      "cell_type": "code",
      "metadata": {
        "id": "i5AozdG75uN5",
        "colab_type": "code",
        "colab": {
          "base_uri": "https://localhost:8080/",
          "height": 33
        },
        "outputId": "024700d5-364b-4ea5-c7a9-99a3b4866363"
      },
      "source": [
        "# Subtração\n",
        "3 - 1"
      ],
      "execution_count": 18,
      "outputs": [
        {
          "output_type": "execute_result",
          "data": {
            "text/plain": [
              "2"
            ]
          },
          "metadata": {
            "tags": []
          },
          "execution_count": 18
        }
      ]
    },
    {
      "cell_type": "code",
      "metadata": {
        "id": "zdLxebPK5wj1",
        "colab_type": "code",
        "colab": {
          "base_uri": "https://localhost:8080/",
          "height": 33
        },
        "outputId": "1c053ae5-e95c-46b0-fe28-c0a42ff1d882"
      },
      "source": [
        "# Multiplicação\n",
        "2 * 3"
      ],
      "execution_count": 19,
      "outputs": [
        {
          "output_type": "execute_result",
          "data": {
            "text/plain": [
              "6"
            ]
          },
          "metadata": {
            "tags": []
          },
          "execution_count": 19
        }
      ]
    },
    {
      "cell_type": "code",
      "metadata": {
        "id": "TOKfgNYS5znc",
        "colab_type": "code",
        "colab": {
          "base_uri": "https://localhost:8080/",
          "height": 33
        },
        "outputId": "85502649-4576-4a22-c198-a93dc951c303"
      },
      "source": [
        "# Exponenciação\n",
        "2 ** 3"
      ],
      "execution_count": 20,
      "outputs": [
        {
          "output_type": "execute_result",
          "data": {
            "text/plain": [
              "8"
            ]
          },
          "metadata": {
            "tags": []
          },
          "execution_count": 20
        }
      ]
    },
    {
      "cell_type": "code",
      "metadata": {
        "id": "OGqYWlPy51gy",
        "colab_type": "code",
        "colab": {
          "base_uri": "https://localhost:8080/",
          "height": 33
        },
        "outputId": "df77baa4-441d-4cf4-8d8c-4aa61c2a92d2"
      },
      "source": [
        "# Divisão: Uma divisão sempre retornará um float\n",
        "5 / 2"
      ],
      "execution_count": 21,
      "outputs": [
        {
          "output_type": "execute_result",
          "data": {
            "text/plain": [
              "2.5"
            ]
          },
          "metadata": {
            "tags": []
          },
          "execution_count": 21
        }
      ]
    },
    {
      "cell_type": "code",
      "metadata": {
        "id": "Zv3RKuf-59rb",
        "colab_type": "code",
        "colab": {
          "base_uri": "https://localhost:8080/",
          "height": 33
        },
        "outputId": "4ad20cfb-ea75-49c3-c854-c4d6186b04ca"
      },
      "source": [
        "# Divisão pegando apenas a parte inteira\n",
        "5 // 2"
      ],
      "execution_count": 22,
      "outputs": [
        {
          "output_type": "execute_result",
          "data": {
            "text/plain": [
              "2"
            ]
          },
          "metadata": {
            "tags": []
          },
          "execution_count": 22
        }
      ]
    },
    {
      "cell_type": "markdown",
      "metadata": {
        "id": "zg3MfJKT7HrJ",
        "colab_type": "text"
      },
      "source": [
        "## Atribuição\n",
        "Para atribuirmos um valor para uma variável basta apenas definir um nome para a variável, no nosso caso `a`, usarmos o operador de atribuição `=` e indicar o valor a ser atribuido, usando o seguinte formato:\n",
        "\n",
        "    <Variável> = <Valor>\n",
        "         a     =   10\n",
        "\n",
        "\n",
        "  *Usamos a função `print()` para imprimirmos na tela.*\n"
      ]
    },
    {
      "cell_type": "code",
      "metadata": {
        "id": "2iMQRMhczAmy",
        "colab_type": "code",
        "colab": {
          "base_uri": "https://localhost:8080/",
          "height": 33
        },
        "outputId": "25b9534e-2224-435f-a19a-4539480fdcfe"
      },
      "source": [
        "# Atribuição e impressão do valor.\n",
        "a = 10\n",
        "print(a)\n"
      ],
      "execution_count": 23,
      "outputs": [
        {
          "output_type": "stream",
          "text": [
            "10\n"
          ],
          "name": "stdout"
        }
      ]
    },
    {
      "cell_type": "markdown",
      "metadata": {
        "id": "vkbqYRiGCxDI",
        "colab_type": "text"
      },
      "source": [
        "Podemos aprimorar um pouco mais, ao invés de atribuir valores diretos podemos atribuir operações para variáveis."
      ]
    },
    {
      "cell_type": "code",
      "metadata": {
        "id": "gwK5aV-ZC7O5",
        "colab_type": "code",
        "colab": {
          "base_uri": "https://localhost:8080/",
          "height": 33
        },
        "outputId": "cbe5e5fe-21fb-45d0-eda3-7b36182ea26b"
      },
      "source": [
        "# Atribuição de opração à variável e impressão do valor\n",
        "a = 5 + 5\n",
        "print(a)"
      ],
      "execution_count": 24,
      "outputs": [
        {
          "output_type": "stream",
          "text": [
            "10\n"
          ],
          "name": "stdout"
        }
      ]
    },
    {
      "cell_type": "markdown",
      "metadata": {
        "id": "bnFdEzGN6Xlg",
        "colab_type": "text"
      },
      "source": [
        "## Tipo de variável\n",
        " **Em Python o tipo de dado é criado de acordo com a necessidade**. No caso de uma soma simples, teremos um tipo `int`, no caso de uma divisão, teremos um tipo `float`.\n"
      ]
    },
    {
      "cell_type": "markdown",
      "metadata": {
        "id": "hapc7zjLI2mq",
        "colab_type": "text"
      },
      "source": [
        "Para conferir o tipo de variável usamos a função `type()`.\n"
      ]
    },
    {
      "cell_type": "markdown",
      "metadata": {
        "id": "XznJAsdBIh25",
        "colab_type": "text"
      },
      "source": [
        "### Float\n",
        "O tipo float normalmente é usado para oprações de divisões ou qualquer outra situação que envolvam casas decimais, como em operações com dinheiro por exemplo."
      ]
    },
    {
      "cell_type": "code",
      "metadata": {
        "id": "Vj4So0oW0nxe",
        "colab_type": "code",
        "colab": {
          "base_uri": "https://localhost:8080/",
          "height": 50
        },
        "outputId": "e49c8807-0f33-4ba2-a631-9bd1eacf1e96"
      },
      "source": [
        "# Tipo da variável: Float\n",
        "preco = 56.3 / 2\n",
        "\n",
        "print('O preço do arroz está R$', preco)\n",
        "type(preco)\n"
      ],
      "execution_count": 25,
      "outputs": [
        {
          "output_type": "stream",
          "text": [
            "O preço do arroz está R$ 28.15\n"
          ],
          "name": "stdout"
        },
        {
          "output_type": "execute_result",
          "data": {
            "text/plain": [
              "float"
            ]
          },
          "metadata": {
            "tags": []
          },
          "execution_count": 25
        }
      ]
    },
    {
      "cell_type": "markdown",
      "metadata": {
        "id": "BKo3w2oyzSDX",
        "colab_type": "text"
      },
      "source": [
        "### Inteiro\n",
        "\n",
        "\n",
        "\n"
      ]
    },
    {
      "cell_type": "code",
      "metadata": {
        "id": "tSRGOHYxzZZ6",
        "colab_type": "code",
        "colab": {
          "base_uri": "https://localhost:8080/",
          "height": 50
        },
        "outputId": "10f2ac6a-3d1e-4beb-9df8-b105c52a35f5"
      },
      "source": [
        "# Tipo da variável: Inteiro\n",
        "vagas = 15 + 3\n",
        "print('Quantidade de vagas disponíveis: ', vagas)\n",
        "type(vagas)"
      ],
      "execution_count": 26,
      "outputs": [
        {
          "output_type": "stream",
          "text": [
            "Quantidade de vagas disponíveis:  18\n"
          ],
          "name": "stdout"
        },
        {
          "output_type": "execute_result",
          "data": {
            "text/plain": [
              "int"
            ]
          },
          "metadata": {
            "tags": []
          },
          "execution_count": 26
        }
      ]
    },
    {
      "cell_type": "code",
      "metadata": {
        "id": "rOUdSBODEoym",
        "colab_type": "code",
        "colab": {
          "base_uri": "https://localhost:8080/",
          "height": 50
        },
        "outputId": "28e03eb5-567b-4a1d-c702-857c6dad8ae7"
      },
      "source": [
        "# Testando o tipo de variável usando o operador //\n",
        "b = 6 // 2\n",
        "print(b)\n",
        "type(b)"
      ],
      "execution_count": 27,
      "outputs": [
        {
          "output_type": "stream",
          "text": [
            "3\n"
          ],
          "name": "stdout"
        },
        {
          "output_type": "execute_result",
          "data": {
            "text/plain": [
              "int"
            ]
          },
          "metadata": {
            "tags": []
          },
          "execution_count": 27
        }
      ]
    },
    {
      "cell_type": "markdown",
      "metadata": {
        "id": "ky1ocFwxHJei",
        "colab_type": "text"
      },
      "source": [
        "### Strings\n",
        "É possível fazer uma atribuição de uma palavra para uma variável, aumentando ainda mais o leque do possibilidades!\n"
      ]
    },
    {
      "cell_type": "code",
      "metadata": {
        "id": "Fx4_MchDHUyS",
        "colab_type": "code",
        "colab": {
          "base_uri": "https://localhost:8080/",
          "height": 50
        },
        "outputId": "44d92c12-bd80-4f2e-baeb-f01c90d8e622"
      },
      "source": [
        "word =  'Python'\n",
        "print('Melhor linguagem de programação: ', word)\n",
        "type(word)"
      ],
      "execution_count": 28,
      "outputs": [
        {
          "output_type": "stream",
          "text": [
            "Melhor linguagem de programação:  Python\n"
          ],
          "name": "stdout"
        },
        {
          "output_type": "execute_result",
          "data": {
            "text/plain": [
              "str"
            ]
          },
          "metadata": {
            "tags": []
          },
          "execution_count": 28
        }
      ]
    },
    {
      "cell_type": "markdown",
      "metadata": {
        "id": "kKim1oDKOBmR",
        "colab_type": "text"
      },
      "source": [
        "Podemos fazer algumas manipulações que podem ser úteis em alguns casos.\n",
        "\n",
        "Há 4 manipulações diretas que podem ser interessantes ao analisar datasets para padronizar:\n",
        "\n",
        "*   `upper()` Todos os caracters em maiúsculo.\n",
        "*   `lower()` Todos os caracters em minúsculo.\n",
        "*   `title()` Toda primeira letra em maiúsculo.\n",
        "*   `capitalize()` Apenas o primeiro caracter em maiúsculo.\n",
        "\n",
        "\n"
      ]
    },
    {
      "cell_type": "code",
      "metadata": {
        "id": "qI2aQVzIOPBH",
        "colab_type": "code",
        "colab": {
          "base_uri": "https://localhost:8080/",
          "height": 100
        },
        "outputId": "d36ae834-c596-4faa-8856-c7ffdfb3b305"
      },
      "source": [
        "word = 'profissão: Data Science'\n",
        "print(word              + \"\\t\\t\\tOriginal\")\n",
        "print(word.upper()      + \"\\t\\t\\tTudo maiúsculo\")\n",
        "print(word.lower()      + \"\\t\\t\\tTudo minúsculo\")\n",
        "print(word.title()      + \"\\t\\t\\tToda primeira maiúscula\")\n",
        "print(word.capitalize() + \"\\t\\t\\tSomente a primeira maiúsucula\")\n"
      ],
      "execution_count": 29,
      "outputs": [
        {
          "output_type": "stream",
          "text": [
            "profissão: Data Science\t\t\tOriginal\n",
            "PROFISSÃO: DATA SCIENCE\t\t\tTudo maiúsculo\n",
            "profissão: data science\t\t\tTudo minúsculo\n",
            "Profissão: Data Science\t\t\tToda primeira maiúscula\n",
            "Profissão: data science\t\t\tSomente a primeira maiúsucula\n"
          ],
          "name": "stdout"
        }
      ]
    },
    {
      "cell_type": "markdown",
      "metadata": {
        "id": "vMDrVFCtPYAf",
        "colab_type": "text"
      },
      "source": [
        "####Podemos concatenar strings"
      ]
    },
    {
      "cell_type": "code",
      "metadata": {
        "id": "agjdFGxGPYVo",
        "colab_type": "code",
        "colab": {
          "base_uri": "https://localhost:8080/",
          "height": 33
        },
        "outputId": "5aa88e0a-b39c-4b8e-efe8-dd1c9cec2c72"
      },
      "source": [
        "word1 = 'Data'\n",
        "word2 = 'Science'\n",
        "new_word  = word1 + word2\n",
        "print(new_word)\n",
        "\n",
        "#para a concatenação, uma vez que quiséssemos deixar a string como duas palavras\n",
        "# poderíamos concatenar também um espaço entre elas\n",
        "#new_word  = word1 + \" \" + word2"
      ],
      "execution_count": 30,
      "outputs": [
        {
          "output_type": "stream",
          "text": [
            "DataScience\n"
          ],
          "name": "stdout"
        }
      ]
    },
    {
      "cell_type": "markdown",
      "metadata": {
        "id": "qP0CGFQusQ1m",
        "colab_type": "text"
      },
      "source": [
        "conseguimos também contar o tamanho de uma string"
      ]
    },
    {
      "cell_type": "code",
      "metadata": {
        "id": "w3l_TpUwsIBw",
        "colab_type": "code",
        "colab": {
          "base_uri": "https://localhost:8080/",
          "height": 33
        },
        "outputId": "019d9320-479c-402d-c3d6-f80baa767340"
      },
      "source": [
        "DNA = 'TCGATCGATCGATCGA'\n",
        "len(DNA)"
      ],
      "execution_count": 31,
      "outputs": [
        {
          "output_type": "execute_result",
          "data": {
            "text/plain": [
              "16"
            ]
          },
          "metadata": {
            "tags": []
          },
          "execution_count": 31
        }
      ]
    },
    {
      "cell_type": "markdown",
      "metadata": {
        "id": "PGTFN7ccPX2W",
        "colab_type": "text"
      },
      "source": [
        "---\n",
        "---\n",
        "#**Aplicabilidade**\n",
        "\n",
        "Todas as funções vistas aqui tem uma aplicação prática e contribui para o desenvolvimento das habilidades necessárias para um data scientist.\n",
        "\n",
        "Podemos somar a quantidade de vendas de 'geladeiras' com a quantidade de fogões' para sabermos a quantidade de eletrodomésticos para cozinha que foram vendidos;\n",
        "\n",
        "Subtrair o 'preço de venda' do 'preço de custo' para obtermos o lucro por item vendido;\n",
        "\n",
        "Dividir a 'quantidade de Km percorridos' pela 'quantidade de litros consumidos' para obter o consumo médio do carro;\n",
        "\n",
        "Juntar nome e sobrenome em uma tabela, e padronizar toda primeira letra do nome como maiúscula para poder apresentar relatórios com uma estética mais agradável para o leitor. \n",
        "\n",
        "E até contar o tamanho da seqência de um DNA.\n",
        "\n",
        "Seja qual for, todas essas formam a base para a trilha de aprendizado em de data science.\n",
        "\n"
      ]
    }
  ]
}