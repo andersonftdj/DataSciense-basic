{
  "nbformat": 4,
  "nbformat_minor": 0,
  "metadata": {
    "colab": {
      "name": "Analisando a Violência no Rio de Janeiro.ipynb",
      "provenance": [],
      "collapsed_sections": [],
      "authorship_tag": "ABX9TyN5furJ9B4x8rHpFAeP2A6K",
      "include_colab_link": true
    },
    "kernelspec": {
      "name": "python3",
      "display_name": "Python 3"
    },
    "language_info": {
      "name": "python"
    }
  },
  "cells": [
    {
      "cell_type": "markdown",
      "metadata": {
        "id": "view-in-github",
        "colab_type": "text"
      },
      "source": [
        "<a href=\"https://colab.research.google.com/github/andersonftdj/data_science/blob/master/Analisando_a_Viol%C3%AAncia_no_Rio_de_Janeiro.ipynb\" target=\"_parent\"><img src=\"https://colab.research.google.com/assets/colab-badge.svg\" alt=\"Open In Colab\"/></a>"
      ]
    },
    {
      "cell_type": "markdown",
      "metadata": {
        "id": "jwVvy1Ve-I_t"
      },
      "source": [
        "# Analisando a Violência no Rio de Janeiro\n",
        "\n",
        "---\n",
        "\n",
        "\n",
        "\n",
        "\n",
        "\n",
        "\n",
        "<img src=\"https://upload.wikimedia.org/wikipedia/commons/thumb/a/ae/Christ_on_Corcovado_mountain.JPG/1200px-Christ_on_Corcovado_mountain.JPG\">\n",
        "\n",
        "Um lugar regado de boas praias, lugares históricos e muitos pontos turísticos o estado do Rio de Janeiro, apesar do seu pouco tamanho, é um local mundialmente conhecido. A sua capital, Rio de Janeiro, conta com as mais famosas praias do mundo como Copacabana e Tijuca e também o Cristo Redentor, considerado pela UNESCO um dos patrimônios da humanidade.\n",
        "\n",
        "Em contraste com a beleza encontrada por toda sua extensão litorânea, de acordo com o [Anuário Brasileiro de Segurança Pública de 2020](https://forumseguranca.org.br/anuario-brasileiro-seguranca-publica/), o Rio é um dos estados com o maior número de morte em 2020. Poderia ser isso atribuiado a desigualdade social? Concentração de facções? Excesso do uso da força policíal?\n",
        "\n",
        "<img src=\"https://ichef.bbci.co.uk/news/640/cpsprodpb/1180A/production/_111409617_mediaitem111409615.jpg\">\n",
        "\n",
        "Não é uma questão trivial conseguir entender as causas que fazem, para tristeza de Gilberto Gil, o *Rio de Janeiro deixar de ser lindo.*\n",
        "\n",
        "\n",
        "\n",
        "\n",
        "\n",
        "Através das novas leis de acesso à informação, vem sendo disponibilizado dados de diversas fontes de informação. Como exemplos temos o [portal ISPDados](http://www.ispdados.rj.gov.br/estatistica.html) do Rio de Janeiro que fonrece dados sobre crimes catalogados em todo o estado. \n",
        "\n",
        "Neste notebook faremos uma análise em cima dos indicadores estatísticos da violência no Rio, exploraremos algumas das variáveis disponíveis buscando entender um pouco mais sobre os tipos de roubos mais praticados, objetos que mais são furtados entre algumas outras ocorrências relatada."
      ]
    },
    {
      "cell_type": "markdown",
      "metadata": {
        "id": "5FGvMpKb-zw4"
      },
      "source": [
        "## Obtenção dos dados\n",
        "\n",
        "<img src=\"https://image.freepik.com/vetores-gratis/conceito-cms-de-design-plano-ilustrado_23-2148796510.jpg\">\n",
        "\n",
        "Os dados foram obtidos originalmento através do [Instituto de Segurança Pública do  Rio de Janeiro](http://www.ispdados.rj.gov.br/estatistica.html) que cataloga os crimes desde 1991. Foi feito um pré-processamento nos dados pelo professor [Carlos Melo](https://www.instagram.com/carlos_melo.py/), com o fim de facilitar a análise e esse dataset pode ser baixado diretamente [aqui](https://raw.githubusercontent.com/carlosfab/dsnp2/master/datasets/violencia_rio.csv).\n",
        "\n",
        "Os dados são catalogados a partir de Registros de Ocorrência feito em delegacias da Polícia Civíl do Estado do Rio de Janeiro, e também com informações complementares de órgãos específicos da Polícia Militar do Estado do Rio de Janeiro."
      ]
    },
    {
      "cell_type": "markdown",
      "metadata": {
        "id": "KRTh88exQZ2O"
      },
      "source": [
        "## Importando os dados\n",
        "\n",
        "<img src=\"https://image.freepik.com/vetores-gratis/ferramentas-de-instrumentos-de-reparacao-de-construcao-de-carpintaria-com-composicao-de-caderno-em-fundo-escuro-de-madeira_1284-12259.jpg\">\n",
        "\n",
        "Para nossa análise usaremos as bibliotecas:\n",
        "* Pandas para a leitura do arquivo csv.\n",
        "* matplotlib para a plotagem dos gráficos.\n",
        "\n",
        "Nesta primeira etapa, também aproveitaremos para definir algumas configurações de gráficos para melhorar a experiência de visualização dos dados nas etapas seguintes.\n"
      ]
    },
    {
      "cell_type": "code",
      "metadata": {
        "id": "0g5L47iUG7lW"
      },
      "source": [
        "import pandas as pd\n",
        "import matplotlib.pyplot as plt\n",
        "import matplotlib as mpl\n",
        "import numpy as np\n",
        "\n",
        "\n",
        "df_original = pd.read_csv(\"https://raw.githubusercontent.com/carlosfab/dsnp2/master/datasets/violencia_rio.csv\")\n",
        "df = df_original[['vano', 'mes', 'furto_veiculos', 'roubo_veiculo', 'recuperacao_veiculos', 'hom_doloso', 'roubo_em_coletivo', 'roubo_celular']]\n",
        "# configurando gráficos \n",
        "# plt.style.use(\"ggplot\")\n",
        "mpl.rcParams['axes.spines.left'] = True\n",
        "mpl.rcParams['axes.spines.right'] = False\n",
        "mpl.rcParams['axes.spines.top'] = False\n",
        "mpl.rcParams['axes.spines.bottom'] = True"
      ],
      "execution_count": 77,
      "outputs": []
    },
    {
      "cell_type": "markdown",
      "metadata": {
        "id": "TPagaEyc-z-d"
      },
      "source": [
        "## Análise Inicial dos Dados\n",
        "\n",
        "<img src= \"https://image.freepik.com/vetores-gratis/pessoas-minusculas-testando-a-garantia-de-qualidade-em-ilustracao-vetorial-plana-de-software-isolado-personagem-de-desenho-animado-corrigindo-bugs-no-dispositivo-de-hardware-teste-de-aplicativo-e-conceito-de-servico-de-ti_74855-10172.jpg\">\n",
        "\n",
        "Antes de inicar a análise, precisamos entender algumas questões básicas sobre o dataset como a **quantidade de dados e variáveis**, os **tipo de variáveis** e os **valores ausentes**. Para começar a entender melhor, vamos verificar a dimensão do dataset."
      ]
    },
    {
      "cell_type": "code",
      "metadata": {
        "colab": {
          "base_uri": "https://localhost:8080/"
        },
        "id": "gm3VB4WgIE5c",
        "outputId": "324370ac-4274-4b55-8db6-aae63bf2d16a"
      },
      "source": [
        "print(\"Entradas: \", df_original.shape[0])\n",
        "print(\"Variáveis: \", df_original.shape[1])"
      ],
      "execution_count": 78,
      "outputs": [
        {
          "output_type": "stream",
          "text": [
            "Entradas:  344\n",
            "Variáveis:  56\n"
          ],
          "name": "stdout"
        }
      ]
    },
    {
      "cell_type": "markdown",
      "metadata": {
        "id": "F9inh4D5WALh"
      },
      "source": [
        "Sabendo das dimensões, vamos verificar agora quais são as variáveis disponíveis no nosso conjunto de dados para termos uma noção do problema."
      ]
    },
    {
      "cell_type": "code",
      "metadata": {
        "colab": {
          "base_uri": "https://localhost:8080/"
        },
        "id": "8m7Bl3BkU3KM",
        "outputId": "02655c84-bcc0-499e-f26f-bff3504f6221"
      },
      "source": [
        "df_original.columns"
      ],
      "execution_count": 79,
      "outputs": [
        {
          "output_type": "execute_result",
          "data": {
            "text/plain": [
              "Index(['vano', 'mes', 'hom_doloso', 'lesao_corp_morte', 'latrocinio',\n",
              "       'hom_por_interv_policial', 'tentat_hom', 'lesao_corp_dolosa', 'estupro',\n",
              "       'hom_culposo', 'lesao_corp_culposa', 'roubo_comercio',\n",
              "       'roubo_residencia', 'roubo_veiculo', 'roubo_carga', 'roubo_transeunte',\n",
              "       'roubo_em_coletivo', 'roubo_banco', 'roubo_cx_eletronico',\n",
              "       'roubo_celular', 'roubo_conducao_saque', 'roubo_apos_saque',\n",
              "       'roubo_bicicleta', 'outros_roubos', 'total_roubos', 'furto_veiculos',\n",
              "       'furto_transeunte', 'furto_coletivo', 'furto_celular',\n",
              "       'furto_bicicleta', 'outros_furtos', 'total_furtos', 'sequestro',\n",
              "       'extorsao', 'sequestro_relampago', 'estelionato', 'apreensao_drogas',\n",
              "       'posse_drogas', 'trafico_drogas', 'apreensao_drogas_sem_autor',\n",
              "       'recuperacao_veiculos', 'apf', 'aaapai', 'cmp', 'cmba', 'ameaca',\n",
              "       'pessoas_desaparecidas', 'encontro_cadaver', 'encontro_ossada',\n",
              "       'pol_militares_mortos_serv', 'pol_civis_mortos_serv',\n",
              "       'indicador_letalidade', 'indicador_roubo_rua', 'indicador_roubo_veic',\n",
              "       'registro_ocorrencias', 'fase'],\n",
              "      dtype='object')"
            ]
          },
          "metadata": {
            "tags": []
          },
          "execution_count": 79
        }
      ]
    },
    {
      "cell_type": "markdown",
      "metadata": {
        "id": "VMtt1gAXWL4u"
      },
      "source": [
        "Com a noção do tamanho do dataset e das variáveis disponíveis, vamos entender que tipo  de informação cada variável fornece.\n",
        "\n",
        "Essas informações podem ser úteis para direcionarmos nosso trabalho na fase de limpeza de dados.\n",
        "\n"
      ]
    },
    {
      "cell_type": "code",
      "metadata": {
        "colab": {
          "base_uri": "https://localhost:8080/"
        },
        "id": "z_5qRvxQaheL",
        "outputId": "0fab2da1-23f8-4997-e6ee-b8b328c4764a"
      },
      "source": [
        "df_original.dtypes"
      ],
      "execution_count": 80,
      "outputs": [
        {
          "output_type": "execute_result",
          "data": {
            "text/plain": [
              "vano                            int64\n",
              "mes                             int64\n",
              "hom_doloso                      int64\n",
              "lesao_corp_morte              float64\n",
              "latrocinio                      int64\n",
              "hom_por_interv_policial       float64\n",
              "tentat_hom                      int64\n",
              "lesao_corp_dolosa               int64\n",
              "estupro                       float64\n",
              "hom_culposo                   float64\n",
              "lesao_corp_culposa            float64\n",
              "roubo_comercio                  int64\n",
              "roubo_residencia                int64\n",
              "roubo_veiculo                   int64\n",
              "roubo_carga                     int64\n",
              "roubo_transeunte                int64\n",
              "roubo_em_coletivo               int64\n",
              "roubo_banco                     int64\n",
              "roubo_cx_eletronico           float64\n",
              "roubo_celular                 float64\n",
              "roubo_conducao_saque          float64\n",
              "roubo_apos_saque              float64\n",
              "roubo_bicicleta               float64\n",
              "outros_roubos                   int64\n",
              "total_roubos                    int64\n",
              "furto_veiculos                  int64\n",
              "furto_transeunte                int64\n",
              "furto_coletivo                float64\n",
              "furto_celular                 float64\n",
              "furto_bicicleta               float64\n",
              "outros_furtos                   int64\n",
              "total_furtos                    int64\n",
              "sequestro                     float64\n",
              "extorsao                      float64\n",
              "sequestro_relampago           float64\n",
              "estelionato                   float64\n",
              "apreensao_drogas                int64\n",
              "posse_drogas                  float64\n",
              "trafico_drogas                float64\n",
              "apreensao_drogas_sem_autor    float64\n",
              "recuperacao_veiculos            int64\n",
              "apf                           float64\n",
              "aaapai                        float64\n",
              "cmp                           float64\n",
              "cmba                          float64\n",
              "ameaca                        float64\n",
              "pessoas_desaparecidas         float64\n",
              "encontro_cadaver                int64\n",
              "encontro_ossada               float64\n",
              "pol_militares_mortos_serv     float64\n",
              "pol_civis_mortos_serv         float64\n",
              "indicador_letalidade            int64\n",
              "indicador_roubo_rua             int64\n",
              "indicador_roubo_veic            int64\n",
              "registro_ocorrencias          float64\n",
              "fase                            int64\n",
              "dtype: object"
            ]
          },
          "metadata": {
            "tags": []
          },
          "execution_count": 80
        }
      ]
    },
    {
      "cell_type": "markdown",
      "metadata": {
        "id": "KG-uEaAfW1On"
      },
      "source": [
        "Agora que estamos conscientes da estrutura do conjunto de dados que temos em mãos, vamo ver as 5 primeiras e 5 últimas linhas do dataset."
      ]
    },
    {
      "cell_type": "code",
      "metadata": {
        "colab": {
          "base_uri": "https://localhost:8080/",
          "height": 223
        },
        "id": "MHECCUaLU3Mg",
        "outputId": "605aab09-7a29-4c9b-ef0b-41457c6aabbf"
      },
      "source": [
        "df_original.head()"
      ],
      "execution_count": 81,
      "outputs": [
        {
          "output_type": "execute_result",
          "data": {
            "text/html": [
              "<div>\n",
              "<style scoped>\n",
              "    .dataframe tbody tr th:only-of-type {\n",
              "        vertical-align: middle;\n",
              "    }\n",
              "\n",
              "    .dataframe tbody tr th {\n",
              "        vertical-align: top;\n",
              "    }\n",
              "\n",
              "    .dataframe thead th {\n",
              "        text-align: right;\n",
              "    }\n",
              "</style>\n",
              "<table border=\"1\" class=\"dataframe\">\n",
              "  <thead>\n",
              "    <tr style=\"text-align: right;\">\n",
              "      <th></th>\n",
              "      <th>vano</th>\n",
              "      <th>mes</th>\n",
              "      <th>hom_doloso</th>\n",
              "      <th>lesao_corp_morte</th>\n",
              "      <th>latrocinio</th>\n",
              "      <th>hom_por_interv_policial</th>\n",
              "      <th>tentat_hom</th>\n",
              "      <th>lesao_corp_dolosa</th>\n",
              "      <th>estupro</th>\n",
              "      <th>hom_culposo</th>\n",
              "      <th>lesao_corp_culposa</th>\n",
              "      <th>roubo_comercio</th>\n",
              "      <th>roubo_residencia</th>\n",
              "      <th>roubo_veiculo</th>\n",
              "      <th>roubo_carga</th>\n",
              "      <th>roubo_transeunte</th>\n",
              "      <th>roubo_em_coletivo</th>\n",
              "      <th>roubo_banco</th>\n",
              "      <th>roubo_cx_eletronico</th>\n",
              "      <th>roubo_celular</th>\n",
              "      <th>roubo_conducao_saque</th>\n",
              "      <th>roubo_apos_saque</th>\n",
              "      <th>roubo_bicicleta</th>\n",
              "      <th>outros_roubos</th>\n",
              "      <th>total_roubos</th>\n",
              "      <th>furto_veiculos</th>\n",
              "      <th>furto_transeunte</th>\n",
              "      <th>furto_coletivo</th>\n",
              "      <th>furto_celular</th>\n",
              "      <th>furto_bicicleta</th>\n",
              "      <th>outros_furtos</th>\n",
              "      <th>total_furtos</th>\n",
              "      <th>sequestro</th>\n",
              "      <th>extorsao</th>\n",
              "      <th>sequestro_relampago</th>\n",
              "      <th>estelionato</th>\n",
              "      <th>apreensao_drogas</th>\n",
              "      <th>posse_drogas</th>\n",
              "      <th>trafico_drogas</th>\n",
              "      <th>apreensao_drogas_sem_autor</th>\n",
              "      <th>recuperacao_veiculos</th>\n",
              "      <th>apf</th>\n",
              "      <th>aaapai</th>\n",
              "      <th>cmp</th>\n",
              "      <th>cmba</th>\n",
              "      <th>ameaca</th>\n",
              "      <th>pessoas_desaparecidas</th>\n",
              "      <th>encontro_cadaver</th>\n",
              "      <th>encontro_ossada</th>\n",
              "      <th>pol_militares_mortos_serv</th>\n",
              "      <th>pol_civis_mortos_serv</th>\n",
              "      <th>indicador_letalidade</th>\n",
              "      <th>indicador_roubo_rua</th>\n",
              "      <th>indicador_roubo_veic</th>\n",
              "      <th>registro_ocorrencias</th>\n",
              "      <th>fase</th>\n",
              "    </tr>\n",
              "  </thead>\n",
              "  <tbody>\n",
              "    <tr>\n",
              "      <th>0</th>\n",
              "      <td>1991</td>\n",
              "      <td>1</td>\n",
              "      <td>657</td>\n",
              "      <td>NaN</td>\n",
              "      <td>15</td>\n",
              "      <td>NaN</td>\n",
              "      <td>162</td>\n",
              "      <td>3051</td>\n",
              "      <td>NaN</td>\n",
              "      <td>NaN</td>\n",
              "      <td>NaN</td>\n",
              "      <td>350</td>\n",
              "      <td>188</td>\n",
              "      <td>1174</td>\n",
              "      <td>63</td>\n",
              "      <td>967</td>\n",
              "      <td>381</td>\n",
              "      <td>37</td>\n",
              "      <td>NaN</td>\n",
              "      <td>NaN</td>\n",
              "      <td>NaN</td>\n",
              "      <td>NaN</td>\n",
              "      <td>NaN</td>\n",
              "      <td>158</td>\n",
              "      <td>3318</td>\n",
              "      <td>2009</td>\n",
              "      <td>1147</td>\n",
              "      <td>NaN</td>\n",
              "      <td>NaN</td>\n",
              "      <td>NaN</td>\n",
              "      <td>3561</td>\n",
              "      <td>6717</td>\n",
              "      <td>NaN</td>\n",
              "      <td>NaN</td>\n",
              "      <td>NaN</td>\n",
              "      <td>NaN</td>\n",
              "      <td>133</td>\n",
              "      <td>NaN</td>\n",
              "      <td>NaN</td>\n",
              "      <td>NaN</td>\n",
              "      <td>872</td>\n",
              "      <td>NaN</td>\n",
              "      <td>NaN</td>\n",
              "      <td>NaN</td>\n",
              "      <td>NaN</td>\n",
              "      <td>NaN</td>\n",
              "      <td>NaN</td>\n",
              "      <td>217</td>\n",
              "      <td>NaN</td>\n",
              "      <td>NaN</td>\n",
              "      <td>NaN</td>\n",
              "      <td>672</td>\n",
              "      <td>1348</td>\n",
              "      <td>1174</td>\n",
              "      <td>NaN</td>\n",
              "      <td>3</td>\n",
              "    </tr>\n",
              "    <tr>\n",
              "      <th>1</th>\n",
              "      <td>1991</td>\n",
              "      <td>2</td>\n",
              "      <td>732</td>\n",
              "      <td>NaN</td>\n",
              "      <td>17</td>\n",
              "      <td>NaN</td>\n",
              "      <td>175</td>\n",
              "      <td>3421</td>\n",
              "      <td>NaN</td>\n",
              "      <td>NaN</td>\n",
              "      <td>NaN</td>\n",
              "      <td>357</td>\n",
              "      <td>171</td>\n",
              "      <td>1097</td>\n",
              "      <td>64</td>\n",
              "      <td>963</td>\n",
              "      <td>432</td>\n",
              "      <td>35</td>\n",
              "      <td>NaN</td>\n",
              "      <td>NaN</td>\n",
              "      <td>NaN</td>\n",
              "      <td>NaN</td>\n",
              "      <td>NaN</td>\n",
              "      <td>142</td>\n",
              "      <td>3261</td>\n",
              "      <td>1850</td>\n",
              "      <td>1066</td>\n",
              "      <td>NaN</td>\n",
              "      <td>NaN</td>\n",
              "      <td>NaN</td>\n",
              "      <td>3309</td>\n",
              "      <td>6225</td>\n",
              "      <td>NaN</td>\n",
              "      <td>NaN</td>\n",
              "      <td>NaN</td>\n",
              "      <td>NaN</td>\n",
              "      <td>127</td>\n",
              "      <td>NaN</td>\n",
              "      <td>NaN</td>\n",
              "      <td>NaN</td>\n",
              "      <td>751</td>\n",
              "      <td>NaN</td>\n",
              "      <td>NaN</td>\n",
              "      <td>NaN</td>\n",
              "      <td>NaN</td>\n",
              "      <td>NaN</td>\n",
              "      <td>NaN</td>\n",
              "      <td>209</td>\n",
              "      <td>NaN</td>\n",
              "      <td>NaN</td>\n",
              "      <td>NaN</td>\n",
              "      <td>749</td>\n",
              "      <td>1395</td>\n",
              "      <td>1097</td>\n",
              "      <td>NaN</td>\n",
              "      <td>3</td>\n",
              "    </tr>\n",
              "    <tr>\n",
              "      <th>2</th>\n",
              "      <td>1991</td>\n",
              "      <td>3</td>\n",
              "      <td>713</td>\n",
              "      <td>NaN</td>\n",
              "      <td>25</td>\n",
              "      <td>NaN</td>\n",
              "      <td>216</td>\n",
              "      <td>3613</td>\n",
              "      <td>NaN</td>\n",
              "      <td>NaN</td>\n",
              "      <td>NaN</td>\n",
              "      <td>443</td>\n",
              "      <td>191</td>\n",
              "      <td>1265</td>\n",
              "      <td>71</td>\n",
              "      <td>963</td>\n",
              "      <td>422</td>\n",
              "      <td>43</td>\n",
              "      <td>NaN</td>\n",
              "      <td>NaN</td>\n",
              "      <td>NaN</td>\n",
              "      <td>NaN</td>\n",
              "      <td>NaN</td>\n",
              "      <td>131</td>\n",
              "      <td>3529</td>\n",
              "      <td>2084</td>\n",
              "      <td>1062</td>\n",
              "      <td>NaN</td>\n",
              "      <td>NaN</td>\n",
              "      <td>NaN</td>\n",
              "      <td>3573</td>\n",
              "      <td>6719</td>\n",
              "      <td>NaN</td>\n",
              "      <td>NaN</td>\n",
              "      <td>NaN</td>\n",
              "      <td>NaN</td>\n",
              "      <td>80</td>\n",
              "      <td>NaN</td>\n",
              "      <td>NaN</td>\n",
              "      <td>NaN</td>\n",
              "      <td>789</td>\n",
              "      <td>NaN</td>\n",
              "      <td>NaN</td>\n",
              "      <td>NaN</td>\n",
              "      <td>NaN</td>\n",
              "      <td>NaN</td>\n",
              "      <td>NaN</td>\n",
              "      <td>188</td>\n",
              "      <td>NaN</td>\n",
              "      <td>NaN</td>\n",
              "      <td>NaN</td>\n",
              "      <td>738</td>\n",
              "      <td>1385</td>\n",
              "      <td>1265</td>\n",
              "      <td>NaN</td>\n",
              "      <td>3</td>\n",
              "    </tr>\n",
              "    <tr>\n",
              "      <th>3</th>\n",
              "      <td>1991</td>\n",
              "      <td>4</td>\n",
              "      <td>634</td>\n",
              "      <td>NaN</td>\n",
              "      <td>20</td>\n",
              "      <td>NaN</td>\n",
              "      <td>200</td>\n",
              "      <td>3211</td>\n",
              "      <td>NaN</td>\n",
              "      <td>NaN</td>\n",
              "      <td>NaN</td>\n",
              "      <td>425</td>\n",
              "      <td>199</td>\n",
              "      <td>1415</td>\n",
              "      <td>81</td>\n",
              "      <td>1186</td>\n",
              "      <td>354</td>\n",
              "      <td>36</td>\n",
              "      <td>NaN</td>\n",
              "      <td>NaN</td>\n",
              "      <td>NaN</td>\n",
              "      <td>NaN</td>\n",
              "      <td>NaN</td>\n",
              "      <td>112</td>\n",
              "      <td>3808</td>\n",
              "      <td>2085</td>\n",
              "      <td>1195</td>\n",
              "      <td>NaN</td>\n",
              "      <td>NaN</td>\n",
              "      <td>NaN</td>\n",
              "      <td>3290</td>\n",
              "      <td>6570</td>\n",
              "      <td>NaN</td>\n",
              "      <td>NaN</td>\n",
              "      <td>NaN</td>\n",
              "      <td>NaN</td>\n",
              "      <td>133</td>\n",
              "      <td>NaN</td>\n",
              "      <td>NaN</td>\n",
              "      <td>NaN</td>\n",
              "      <td>787</td>\n",
              "      <td>NaN</td>\n",
              "      <td>NaN</td>\n",
              "      <td>NaN</td>\n",
              "      <td>NaN</td>\n",
              "      <td>NaN</td>\n",
              "      <td>NaN</td>\n",
              "      <td>140</td>\n",
              "      <td>NaN</td>\n",
              "      <td>NaN</td>\n",
              "      <td>NaN</td>\n",
              "      <td>654</td>\n",
              "      <td>1540</td>\n",
              "      <td>1415</td>\n",
              "      <td>NaN</td>\n",
              "      <td>3</td>\n",
              "    </tr>\n",
              "    <tr>\n",
              "      <th>4</th>\n",
              "      <td>1991</td>\n",
              "      <td>5</td>\n",
              "      <td>650</td>\n",
              "      <td>NaN</td>\n",
              "      <td>20</td>\n",
              "      <td>NaN</td>\n",
              "      <td>146</td>\n",
              "      <td>3051</td>\n",
              "      <td>NaN</td>\n",
              "      <td>NaN</td>\n",
              "      <td>NaN</td>\n",
              "      <td>553</td>\n",
              "      <td>231</td>\n",
              "      <td>1449</td>\n",
              "      <td>82</td>\n",
              "      <td>931</td>\n",
              "      <td>335</td>\n",
              "      <td>27</td>\n",
              "      <td>NaN</td>\n",
              "      <td>NaN</td>\n",
              "      <td>NaN</td>\n",
              "      <td>NaN</td>\n",
              "      <td>NaN</td>\n",
              "      <td>147</td>\n",
              "      <td>3755</td>\n",
              "      <td>2185</td>\n",
              "      <td>723</td>\n",
              "      <td>NaN</td>\n",
              "      <td>NaN</td>\n",
              "      <td>NaN</td>\n",
              "      <td>3546</td>\n",
              "      <td>6454</td>\n",
              "      <td>NaN</td>\n",
              "      <td>NaN</td>\n",
              "      <td>NaN</td>\n",
              "      <td>NaN</td>\n",
              "      <td>163</td>\n",
              "      <td>NaN</td>\n",
              "      <td>NaN</td>\n",
              "      <td>NaN</td>\n",
              "      <td>845</td>\n",
              "      <td>NaN</td>\n",
              "      <td>NaN</td>\n",
              "      <td>NaN</td>\n",
              "      <td>NaN</td>\n",
              "      <td>NaN</td>\n",
              "      <td>NaN</td>\n",
              "      <td>78</td>\n",
              "      <td>NaN</td>\n",
              "      <td>NaN</td>\n",
              "      <td>NaN</td>\n",
              "      <td>670</td>\n",
              "      <td>1266</td>\n",
              "      <td>1449</td>\n",
              "      <td>NaN</td>\n",
              "      <td>3</td>\n",
              "    </tr>\n",
              "  </tbody>\n",
              "</table>\n",
              "</div>"
            ],
            "text/plain": [
              "   vano  mes  hom_doloso  ...  indicador_roubo_veic  registro_ocorrencias  fase\n",
              "0  1991    1         657  ...                  1174                   NaN     3\n",
              "1  1991    2         732  ...                  1097                   NaN     3\n",
              "2  1991    3         713  ...                  1265                   NaN     3\n",
              "3  1991    4         634  ...                  1415                   NaN     3\n",
              "4  1991    5         650  ...                  1449                   NaN     3\n",
              "\n",
              "[5 rows x 56 columns]"
            ]
          },
          "metadata": {
            "tags": []
          },
          "execution_count": 81
        }
      ]
    },
    {
      "cell_type": "code",
      "metadata": {
        "colab": {
          "base_uri": "https://localhost:8080/",
          "height": 224
        },
        "id": "gJ8tqPi7ilRR",
        "outputId": "6dd0fbea-af9c-46dc-8de7-29f9f07d0cae"
      },
      "source": [
        "df_original.tail()"
      ],
      "execution_count": 82,
      "outputs": [
        {
          "output_type": "execute_result",
          "data": {
            "text/html": [
              "<div>\n",
              "<style scoped>\n",
              "    .dataframe tbody tr th:only-of-type {\n",
              "        vertical-align: middle;\n",
              "    }\n",
              "\n",
              "    .dataframe tbody tr th {\n",
              "        vertical-align: top;\n",
              "    }\n",
              "\n",
              "    .dataframe thead th {\n",
              "        text-align: right;\n",
              "    }\n",
              "</style>\n",
              "<table border=\"1\" class=\"dataframe\">\n",
              "  <thead>\n",
              "    <tr style=\"text-align: right;\">\n",
              "      <th></th>\n",
              "      <th>vano</th>\n",
              "      <th>mes</th>\n",
              "      <th>hom_doloso</th>\n",
              "      <th>lesao_corp_morte</th>\n",
              "      <th>latrocinio</th>\n",
              "      <th>hom_por_interv_policial</th>\n",
              "      <th>tentat_hom</th>\n",
              "      <th>lesao_corp_dolosa</th>\n",
              "      <th>estupro</th>\n",
              "      <th>hom_culposo</th>\n",
              "      <th>lesao_corp_culposa</th>\n",
              "      <th>roubo_comercio</th>\n",
              "      <th>roubo_residencia</th>\n",
              "      <th>roubo_veiculo</th>\n",
              "      <th>roubo_carga</th>\n",
              "      <th>roubo_transeunte</th>\n",
              "      <th>roubo_em_coletivo</th>\n",
              "      <th>roubo_banco</th>\n",
              "      <th>roubo_cx_eletronico</th>\n",
              "      <th>roubo_celular</th>\n",
              "      <th>roubo_conducao_saque</th>\n",
              "      <th>roubo_apos_saque</th>\n",
              "      <th>roubo_bicicleta</th>\n",
              "      <th>outros_roubos</th>\n",
              "      <th>total_roubos</th>\n",
              "      <th>furto_veiculos</th>\n",
              "      <th>furto_transeunte</th>\n",
              "      <th>furto_coletivo</th>\n",
              "      <th>furto_celular</th>\n",
              "      <th>furto_bicicleta</th>\n",
              "      <th>outros_furtos</th>\n",
              "      <th>total_furtos</th>\n",
              "      <th>sequestro</th>\n",
              "      <th>extorsao</th>\n",
              "      <th>sequestro_relampago</th>\n",
              "      <th>estelionato</th>\n",
              "      <th>apreensao_drogas</th>\n",
              "      <th>posse_drogas</th>\n",
              "      <th>trafico_drogas</th>\n",
              "      <th>apreensao_drogas_sem_autor</th>\n",
              "      <th>recuperacao_veiculos</th>\n",
              "      <th>apf</th>\n",
              "      <th>aaapai</th>\n",
              "      <th>cmp</th>\n",
              "      <th>cmba</th>\n",
              "      <th>ameaca</th>\n",
              "      <th>pessoas_desaparecidas</th>\n",
              "      <th>encontro_cadaver</th>\n",
              "      <th>encontro_ossada</th>\n",
              "      <th>pol_militares_mortos_serv</th>\n",
              "      <th>pol_civis_mortos_serv</th>\n",
              "      <th>indicador_letalidade</th>\n",
              "      <th>indicador_roubo_rua</th>\n",
              "      <th>indicador_roubo_veic</th>\n",
              "      <th>registro_ocorrencias</th>\n",
              "      <th>fase</th>\n",
              "    </tr>\n",
              "  </thead>\n",
              "  <tbody>\n",
              "    <tr>\n",
              "      <th>339</th>\n",
              "      <td>2019</td>\n",
              "      <td>4</td>\n",
              "      <td>360</td>\n",
              "      <td>1.0</td>\n",
              "      <td>11</td>\n",
              "      <td>124.0</td>\n",
              "      <td>466</td>\n",
              "      <td>5573</td>\n",
              "      <td>483.0</td>\n",
              "      <td>172.0</td>\n",
              "      <td>2182.0</td>\n",
              "      <td>502</td>\n",
              "      <td>124</td>\n",
              "      <td>3755</td>\n",
              "      <td>667</td>\n",
              "      <td>7031</td>\n",
              "      <td>1585</td>\n",
              "      <td>2</td>\n",
              "      <td>4.0</td>\n",
              "      <td>2424.0</td>\n",
              "      <td>10.0</td>\n",
              "      <td>82.0</td>\n",
              "      <td>23.0</td>\n",
              "      <td>2245</td>\n",
              "      <td>18454</td>\n",
              "      <td>1244</td>\n",
              "      <td>1519</td>\n",
              "      <td>607.0</td>\n",
              "      <td>1318.0</td>\n",
              "      <td>211.0</td>\n",
              "      <td>7633</td>\n",
              "      <td>12532</td>\n",
              "      <td>0.0</td>\n",
              "      <td>151.0</td>\n",
              "      <td>11.0</td>\n",
              "      <td>3260.0</td>\n",
              "      <td>1909</td>\n",
              "      <td>745.0</td>\n",
              "      <td>1021.0</td>\n",
              "      <td>187.0</td>\n",
              "      <td>2624</td>\n",
              "      <td>3128.0</td>\n",
              "      <td>497.0</td>\n",
              "      <td>1648.0</td>\n",
              "      <td>350.0</td>\n",
              "      <td>5310.0</td>\n",
              "      <td>408.0</td>\n",
              "      <td>22</td>\n",
              "      <td>3.0</td>\n",
              "      <td>1.0</td>\n",
              "      <td>0.0</td>\n",
              "      <td>496</td>\n",
              "      <td>11040</td>\n",
              "      <td>3755</td>\n",
              "      <td>67797.0</td>\n",
              "      <td>3</td>\n",
              "    </tr>\n",
              "    <tr>\n",
              "      <th>340</th>\n",
              "      <td>2019</td>\n",
              "      <td>5</td>\n",
              "      <td>345</td>\n",
              "      <td>2.0</td>\n",
              "      <td>15</td>\n",
              "      <td>172.0</td>\n",
              "      <td>478</td>\n",
              "      <td>4958</td>\n",
              "      <td>465.0</td>\n",
              "      <td>145.0</td>\n",
              "      <td>2304.0</td>\n",
              "      <td>514</td>\n",
              "      <td>93</td>\n",
              "      <td>3649</td>\n",
              "      <td>710</td>\n",
              "      <td>7332</td>\n",
              "      <td>1625</td>\n",
              "      <td>1</td>\n",
              "      <td>3.0</td>\n",
              "      <td>2427.0</td>\n",
              "      <td>9.0</td>\n",
              "      <td>87.0</td>\n",
              "      <td>7.0</td>\n",
              "      <td>2216</td>\n",
              "      <td>18673</td>\n",
              "      <td>1480</td>\n",
              "      <td>1475</td>\n",
              "      <td>715.0</td>\n",
              "      <td>1423.0</td>\n",
              "      <td>220.0</td>\n",
              "      <td>7711</td>\n",
              "      <td>13024</td>\n",
              "      <td>0.0</td>\n",
              "      <td>147.0</td>\n",
              "      <td>7.0</td>\n",
              "      <td>3498.0</td>\n",
              "      <td>2034</td>\n",
              "      <td>735.0</td>\n",
              "      <td>1133.0</td>\n",
              "      <td>199.0</td>\n",
              "      <td>2450</td>\n",
              "      <td>3169.0</td>\n",
              "      <td>527.0</td>\n",
              "      <td>1771.0</td>\n",
              "      <td>248.0</td>\n",
              "      <td>5068.0</td>\n",
              "      <td>390.0</td>\n",
              "      <td>20</td>\n",
              "      <td>1.0</td>\n",
              "      <td>0.0</td>\n",
              "      <td>0.0</td>\n",
              "      <td>534</td>\n",
              "      <td>11384</td>\n",
              "      <td>3649</td>\n",
              "      <td>68336.0</td>\n",
              "      <td>3</td>\n",
              "    </tr>\n",
              "    <tr>\n",
              "      <th>341</th>\n",
              "      <td>2019</td>\n",
              "      <td>6</td>\n",
              "      <td>332</td>\n",
              "      <td>3.0</td>\n",
              "      <td>8</td>\n",
              "      <td>153.0</td>\n",
              "      <td>436</td>\n",
              "      <td>4769</td>\n",
              "      <td>414.0</td>\n",
              "      <td>152.0</td>\n",
              "      <td>2481.0</td>\n",
              "      <td>382</td>\n",
              "      <td>85</td>\n",
              "      <td>3115</td>\n",
              "      <td>599</td>\n",
              "      <td>6077</td>\n",
              "      <td>1287</td>\n",
              "      <td>1</td>\n",
              "      <td>4.0</td>\n",
              "      <td>2187.0</td>\n",
              "      <td>19.0</td>\n",
              "      <td>83.0</td>\n",
              "      <td>9.0</td>\n",
              "      <td>1984</td>\n",
              "      <td>15832</td>\n",
              "      <td>1251</td>\n",
              "      <td>1443</td>\n",
              "      <td>630.0</td>\n",
              "      <td>1345.0</td>\n",
              "      <td>189.0</td>\n",
              "      <td>7224</td>\n",
              "      <td>12082</td>\n",
              "      <td>0.0</td>\n",
              "      <td>133.0</td>\n",
              "      <td>6.0</td>\n",
              "      <td>3029.0</td>\n",
              "      <td>1854</td>\n",
              "      <td>763.0</td>\n",
              "      <td>976.0</td>\n",
              "      <td>158.0</td>\n",
              "      <td>2041</td>\n",
              "      <td>2848.0</td>\n",
              "      <td>467.0</td>\n",
              "      <td>1585.0</td>\n",
              "      <td>233.0</td>\n",
              "      <td>4497.0</td>\n",
              "      <td>403.0</td>\n",
              "      <td>20</td>\n",
              "      <td>1.0</td>\n",
              "      <td>3.0</td>\n",
              "      <td>0.0</td>\n",
              "      <td>496</td>\n",
              "      <td>9551</td>\n",
              "      <td>3115</td>\n",
              "      <td>61202.0</td>\n",
              "      <td>3</td>\n",
              "    </tr>\n",
              "    <tr>\n",
              "      <th>342</th>\n",
              "      <td>2019</td>\n",
              "      <td>7</td>\n",
              "      <td>309</td>\n",
              "      <td>5.0</td>\n",
              "      <td>10</td>\n",
              "      <td>194.0</td>\n",
              "      <td>399</td>\n",
              "      <td>4740</td>\n",
              "      <td>402.0</td>\n",
              "      <td>140.0</td>\n",
              "      <td>2334.0</td>\n",
              "      <td>386</td>\n",
              "      <td>72</td>\n",
              "      <td>3198</td>\n",
              "      <td>691</td>\n",
              "      <td>6637</td>\n",
              "      <td>1208</td>\n",
              "      <td>1</td>\n",
              "      <td>0.0</td>\n",
              "      <td>2226.0</td>\n",
              "      <td>12.0</td>\n",
              "      <td>97.0</td>\n",
              "      <td>16.0</td>\n",
              "      <td>2110</td>\n",
              "      <td>16654</td>\n",
              "      <td>1353</td>\n",
              "      <td>1570</td>\n",
              "      <td>746.0</td>\n",
              "      <td>1391.0</td>\n",
              "      <td>230.0</td>\n",
              "      <td>7632</td>\n",
              "      <td>12922</td>\n",
              "      <td>0.0</td>\n",
              "      <td>135.0</td>\n",
              "      <td>12.0</td>\n",
              "      <td>3627.0</td>\n",
              "      <td>1861</td>\n",
              "      <td>709.0</td>\n",
              "      <td>996.0</td>\n",
              "      <td>187.0</td>\n",
              "      <td>2355</td>\n",
              "      <td>2907.0</td>\n",
              "      <td>490.0</td>\n",
              "      <td>1856.0</td>\n",
              "      <td>267.0</td>\n",
              "      <td>4678.0</td>\n",
              "      <td>400.0</td>\n",
              "      <td>32</td>\n",
              "      <td>7.0</td>\n",
              "      <td>0.0</td>\n",
              "      <td>0.0</td>\n",
              "      <td>518</td>\n",
              "      <td>10071</td>\n",
              "      <td>3198</td>\n",
              "      <td>65817.0</td>\n",
              "      <td>2</td>\n",
              "    </tr>\n",
              "    <tr>\n",
              "      <th>343</th>\n",
              "      <td>2019</td>\n",
              "      <td>8</td>\n",
              "      <td>318</td>\n",
              "      <td>1.0</td>\n",
              "      <td>6</td>\n",
              "      <td>170.0</td>\n",
              "      <td>457</td>\n",
              "      <td>4760</td>\n",
              "      <td>460.0</td>\n",
              "      <td>156.0</td>\n",
              "      <td>2437.0</td>\n",
              "      <td>433</td>\n",
              "      <td>103</td>\n",
              "      <td>3181</td>\n",
              "      <td>587</td>\n",
              "      <td>6452</td>\n",
              "      <td>1215</td>\n",
              "      <td>1</td>\n",
              "      <td>1.0</td>\n",
              "      <td>2245.0</td>\n",
              "      <td>9.0</td>\n",
              "      <td>98.0</td>\n",
              "      <td>17.0</td>\n",
              "      <td>1794</td>\n",
              "      <td>16136</td>\n",
              "      <td>1361</td>\n",
              "      <td>1568</td>\n",
              "      <td>674.0</td>\n",
              "      <td>1534.0</td>\n",
              "      <td>185.0</td>\n",
              "      <td>7280</td>\n",
              "      <td>12602</td>\n",
              "      <td>0.0</td>\n",
              "      <td>132.0</td>\n",
              "      <td>12.0</td>\n",
              "      <td>3546.0</td>\n",
              "      <td>1862</td>\n",
              "      <td>668.0</td>\n",
              "      <td>1067.0</td>\n",
              "      <td>171.0</td>\n",
              "      <td>2081</td>\n",
              "      <td>3114.0</td>\n",
              "      <td>476.0</td>\n",
              "      <td>2028.0</td>\n",
              "      <td>265.0</td>\n",
              "      <td>4662.0</td>\n",
              "      <td>367.0</td>\n",
              "      <td>27</td>\n",
              "      <td>8.0</td>\n",
              "      <td>2.0</td>\n",
              "      <td>0.0</td>\n",
              "      <td>495</td>\n",
              "      <td>9912</td>\n",
              "      <td>3181</td>\n",
              "      <td>65285.0</td>\n",
              "      <td>2</td>\n",
              "    </tr>\n",
              "  </tbody>\n",
              "</table>\n",
              "</div>"
            ],
            "text/plain": [
              "     vano  mes  hom_doloso  ...  indicador_roubo_veic  registro_ocorrencias  fase\n",
              "339  2019    4         360  ...                  3755               67797.0     3\n",
              "340  2019    5         345  ...                  3649               68336.0     3\n",
              "341  2019    6         332  ...                  3115               61202.0     3\n",
              "342  2019    7         309  ...                  3198               65817.0     2\n",
              "343  2019    8         318  ...                  3181               65285.0     2\n",
              "\n",
              "[5 rows x 56 columns]"
            ]
          },
          "metadata": {
            "tags": []
          },
          "execution_count": 82
        }
      ]
    },
    {
      "cell_type": "markdown",
      "metadata": {
        "id": "5POixG8Mi7FN"
      },
      "source": [
        "É possível reparar através das variáveis `ano`e `mes` que o nosso dataset está organizado de modo sequencial no tempo, com o início em 1991.\n",
        "\n",
        "Há uma grande quantidade de dados ausentes, principalmente no início dos registros. Podemos levantar algumas hipóteses quanto a isso:\n",
        "1. Na época, as variáveis que estão nulas, provavelmente não existiam. Por exemplo, roubo de celular. Em 1991 ter uma celular era inacessível para a maior parte da população, então como roubos eram raros provavelmente eles poderiam estar sendo indexado em outra variável, ou nem mesmo registrados.\n",
        "\n",
        "2. Outra hipótese a se pensar é que simplesmente pode ter havido erros na hora de registrar esses dados, perdidos em uma digitalização ou alguém pode ter esquecido, por que não?\n"
      ]
    },
    {
      "cell_type": "markdown",
      "metadata": {
        "id": "xt1G8zA04gmZ"
      },
      "source": [
        "\n",
        "Antes de tratar essas hipótes, vamos conferir a quantidade de valores ausentes contidos nesse dataset.\n"
      ]
    },
    {
      "cell_type": "code",
      "metadata": {
        "colab": {
          "base_uri": "https://localhost:8080/"
        },
        "id": "pHJiebb0k0wv",
        "outputId": "c463cac2-d15d-42c0-f039-6cc215787ee1"
      },
      "source": [
        "(df_original.isnull().sum() / df_original.shape[0]  * 100).sort_values(ascending=False)"
      ],
      "execution_count": 83,
      "outputs": [
        {
          "output_type": "execute_result",
          "data": {
            "text/plain": [
              "roubo_bicicleta               80.232558\n",
              "furto_bicicleta               80.232558\n",
              "apreensao_drogas_sem_autor    52.325581\n",
              "posse_drogas                  52.325581\n",
              "apf                           52.325581\n",
              "aaapai                        52.325581\n",
              "cmp                           52.325581\n",
              "trafico_drogas                52.325581\n",
              "cmba                          52.325581\n",
              "sequestro_relampago           41.860465\n",
              "furto_coletivo                41.860465\n",
              "extorsao                      41.860465\n",
              "furto_celular                 41.860465\n",
              "roubo_apos_saque              41.860465\n",
              "roubo_conducao_saque          41.860465\n",
              "roubo_cx_eletronico           41.860465\n",
              "estupro                       41.860465\n",
              "estelionato                   41.860465\n",
              "pol_civis_mortos_serv         41.860465\n",
              "pol_militares_mortos_serv     41.860465\n",
              "pessoas_desaparecidas         38.372093\n",
              "encontro_ossada               38.372093\n",
              "roubo_celular                 31.395349\n",
              "lesao_corp_culposa            27.906977\n",
              "ameaca                        27.906977\n",
              "sequestro                     27.906977\n",
              "lesao_corp_morte              27.906977\n",
              "registro_ocorrencias          27.906977\n",
              "hom_por_interv_policial       24.418605\n",
              "hom_culposo                   24.418605\n",
              "tentat_hom                     0.000000\n",
              "roubo_comercio                 0.000000\n",
              "roubo_residencia               0.000000\n",
              "latrocinio                     0.000000\n",
              "lesao_corp_dolosa              0.000000\n",
              "hom_doloso                     0.000000\n",
              "roubo_transeunte               0.000000\n",
              "mes                            0.000000\n",
              "roubo_veiculo                  0.000000\n",
              "roubo_carga                    0.000000\n",
              "fase                           0.000000\n",
              "roubo_em_coletivo              0.000000\n",
              "roubo_banco                    0.000000\n",
              "outros_roubos                  0.000000\n",
              "total_roubos                   0.000000\n",
              "furto_veiculos                 0.000000\n",
              "furto_transeunte               0.000000\n",
              "outros_furtos                  0.000000\n",
              "total_furtos                   0.000000\n",
              "apreensao_drogas               0.000000\n",
              "recuperacao_veiculos           0.000000\n",
              "encontro_cadaver               0.000000\n",
              "indicador_letalidade           0.000000\n",
              "indicador_roubo_rua            0.000000\n",
              "indicador_roubo_veic           0.000000\n",
              "vano                           0.000000\n",
              "dtype: float64"
            ]
          },
          "metadata": {
            "tags": []
          },
          "execution_count": 83
        }
      ]
    },
    {
      "cell_type": "markdown",
      "metadata": {
        "id": "EiUaQELMc2ze"
      },
      "source": [
        "Algumas variáveis tem um número considerável de dados ausentes, como roubo e furto de bicicleta, apreensão de drogas entre outros.\n",
        "\n",
        "Com um grande número de informações ausentes, devemos buscar algum meio para que isso não afete nossa análise. Pelo fato dos nossos dados estarem dispostos de maneira sequencial no tempo, podemos escolher analisá-los a partir de um ano em que uma variável começou a ser catalogada para ter um resultado mais condizente com a realidade.\n",
        "\n",
        "Podemos também encarar esse problema e analisarmos os dados das seguinte maneiras:\n",
        "\n",
        "* Número anual de crimes\n",
        "* Número mensal de crimes\n",
        "* Categoria de crimes (Contra o Patrimônio, Contra a Vida e etc.)\n",
        "\n",
        "\n"
      ]
    },
    {
      "cell_type": "code",
      "metadata": {
        "colab": {
          "base_uri": "https://localhost:8080/"
        },
        "id": "1yApeCWqbA00",
        "outputId": "ba530599-e45f-4faf-e965-622e674beb47"
      },
      "source": [
        "(df_original.groupby(['vano']).sum()).roubo_celular"
      ],
      "execution_count": 84,
      "outputs": [
        {
          "output_type": "execute_result",
          "data": {
            "text/plain": [
              "vano\n",
              "1991        0.0\n",
              "1992        0.0\n",
              "1993        0.0\n",
              "1994        0.0\n",
              "1995        0.0\n",
              "1996        0.0\n",
              "1997        0.0\n",
              "1998        0.0\n",
              "1999        0.0\n",
              "2000     2120.0\n",
              "2001    15937.0\n",
              "2002    13472.0\n",
              "2003    12760.0\n",
              "2004    11084.0\n",
              "2005     6913.0\n",
              "2006     7962.0\n",
              "2007     7592.0\n",
              "2008     8614.0\n",
              "2009     8499.0\n",
              "2010     6988.0\n",
              "2011     5391.0\n",
              "2012     4362.0\n",
              "2013     5465.0\n",
              "2014     7758.0\n",
              "2015    12038.0\n",
              "2016    19549.0\n",
              "2017    24380.0\n",
              "2018    26538.0\n",
              "2019    18660.0\n",
              "Name: roubo_celular, dtype: float64"
            ]
          },
          "metadata": {
            "tags": []
          },
          "execution_count": 84
        }
      ]
    },
    {
      "cell_type": "markdown",
      "metadata": {
        "id": "cAaHahVFurkN"
      },
      "source": [
        " A primeiro ocorrência de roubo de celular aconte em 2000, portanto usaremos esse ano para seguir com as análises."
      ]
    },
    {
      "cell_type": "code",
      "metadata": {
        "id": "IiaH_r3Oh1VY"
      },
      "source": [
        "df = df[ df['vano'] >= 2000]\n"
      ],
      "execution_count": 85,
      "outputs": []
    },
    {
      "cell_type": "markdown",
      "metadata": {
        "id": "XmIrBvn7h7Ot"
      },
      "source": [
        "**Analisaremos os dados a partir do ano de 2000.**"
      ]
    },
    {
      "cell_type": "markdown",
      "metadata": {
        "id": "pwqGqXzY-0EQ"
      },
      "source": [
        "## Informações estatísticas da violência no Rio de Janeiro\n",
        "\n",
        "<img src=\"https://image.freepik.com/fotos-gratis/conta-de-papel-no-local-de-trabalho-do-projeto-de-financas-do-encontro_1418-62.jpg\">"
      ]
    },
    {
      "cell_type": "markdown",
      "metadata": {
        "id": "0KmYqNQ_beXc"
      },
      "source": [
        "Para entender melhor a disposição estatística dos dados numéricos utilizaremos o método `describe`.\n",
        "\n",
        "Através dele podemos obter informações que podem nos ajudar a:\n",
        "* Entender a distribuição dados.\n",
        "* Obter resumos estatísticos.\n",
        "* Identificar outliers.\n",
        "* Verificar a eficácia de uma limpeza em dados tratados e não tratados. \n"
      ]
    },
    {
      "cell_type": "code",
      "metadata": {
        "colab": {
          "base_uri": "https://localhost:8080/",
          "height": 297
        },
        "id": "B--oGHDpbSIv",
        "outputId": "d013d64e-951f-4664-b8f6-49cce8733149"
      },
      "source": [
        "df.describe()"
      ],
      "execution_count": 86,
      "outputs": [
        {
          "output_type": "execute_result",
          "data": {
            "text/html": [
              "<div>\n",
              "<style scoped>\n",
              "    .dataframe tbody tr th:only-of-type {\n",
              "        vertical-align: middle;\n",
              "    }\n",
              "\n",
              "    .dataframe tbody tr th {\n",
              "        vertical-align: top;\n",
              "    }\n",
              "\n",
              "    .dataframe thead th {\n",
              "        text-align: right;\n",
              "    }\n",
              "</style>\n",
              "<table border=\"1\" class=\"dataframe\">\n",
              "  <thead>\n",
              "    <tr style=\"text-align: right;\">\n",
              "      <th></th>\n",
              "      <th>vano</th>\n",
              "      <th>mes</th>\n",
              "      <th>furto_veiculos</th>\n",
              "      <th>roubo_veiculo</th>\n",
              "      <th>recuperacao_veiculos</th>\n",
              "      <th>hom_doloso</th>\n",
              "      <th>roubo_em_coletivo</th>\n",
              "      <th>roubo_celular</th>\n",
              "    </tr>\n",
              "  </thead>\n",
              "  <tbody>\n",
              "    <tr>\n",
              "      <th>count</th>\n",
              "      <td>236.000000</td>\n",
              "      <td>236.000000</td>\n",
              "      <td>236.000000</td>\n",
              "      <td>236.000000</td>\n",
              "      <td>236.000000</td>\n",
              "      <td>236.000000</td>\n",
              "      <td>236.000000</td>\n",
              "      <td>236.000000</td>\n",
              "    </tr>\n",
              "    <tr>\n",
              "      <th>mean</th>\n",
              "      <td>2009.338983</td>\n",
              "      <td>6.432203</td>\n",
              "      <td>1549.326271</td>\n",
              "      <td>2696.330508</td>\n",
              "      <td>2091.059322</td>\n",
              "      <td>457.847458</td>\n",
              "      <td>748.250000</td>\n",
              "      <td>957.974576</td>\n",
              "    </tr>\n",
              "    <tr>\n",
              "      <th>std</th>\n",
              "      <td>5.691682</td>\n",
              "      <td>3.445574</td>\n",
              "      <td>202.198321</td>\n",
              "      <td>803.812342</td>\n",
              "      <td>525.703489</td>\n",
              "      <td>88.401225</td>\n",
              "      <td>314.756564</td>\n",
              "      <td>624.309034</td>\n",
              "    </tr>\n",
              "    <tr>\n",
              "      <th>min</th>\n",
              "      <td>2000.000000</td>\n",
              "      <td>1.000000</td>\n",
              "      <td>1159.000000</td>\n",
              "      <td>1413.000000</td>\n",
              "      <td>1188.000000</td>\n",
              "      <td>272.000000</td>\n",
              "      <td>303.000000</td>\n",
              "      <td>0.000000</td>\n",
              "    </tr>\n",
              "    <tr>\n",
              "      <th>25%</th>\n",
              "      <td>2004.000000</td>\n",
              "      <td>3.000000</td>\n",
              "      <td>1381.750000</td>\n",
              "      <td>2225.500000</td>\n",
              "      <td>1735.750000</td>\n",
              "      <td>381.750000</td>\n",
              "      <td>520.000000</td>\n",
              "      <td>549.750000</td>\n",
              "    </tr>\n",
              "    <tr>\n",
              "      <th>50%</th>\n",
              "      <td>2009.000000</td>\n",
              "      <td>6.000000</td>\n",
              "      <td>1521.000000</td>\n",
              "      <td>2555.500000</td>\n",
              "      <td>2037.500000</td>\n",
              "      <td>462.500000</td>\n",
              "      <td>693.000000</td>\n",
              "      <td>717.500000</td>\n",
              "    </tr>\n",
              "    <tr>\n",
              "      <th>75%</th>\n",
              "      <td>2014.000000</td>\n",
              "      <td>9.000000</td>\n",
              "      <td>1723.000000</td>\n",
              "      <td>3056.000000</td>\n",
              "      <td>2381.500000</td>\n",
              "      <td>527.250000</td>\n",
              "      <td>853.000000</td>\n",
              "      <td>1306.750000</td>\n",
              "    </tr>\n",
              "    <tr>\n",
              "      <th>max</th>\n",
              "      <td>2019.000000</td>\n",
              "      <td>12.000000</td>\n",
              "      <td>2041.000000</td>\n",
              "      <td>5358.000000</td>\n",
              "      <td>3695.000000</td>\n",
              "      <td>682.000000</td>\n",
              "      <td>1628.000000</td>\n",
              "      <td>2626.000000</td>\n",
              "    </tr>\n",
              "  </tbody>\n",
              "</table>\n",
              "</div>"
            ],
            "text/plain": [
              "              vano         mes  ...  roubo_em_coletivo  roubo_celular\n",
              "count   236.000000  236.000000  ...         236.000000     236.000000\n",
              "mean   2009.338983    6.432203  ...         748.250000     957.974576\n",
              "std       5.691682    3.445574  ...         314.756564     624.309034\n",
              "min    2000.000000    1.000000  ...         303.000000       0.000000\n",
              "25%    2004.000000    3.000000  ...         520.000000     549.750000\n",
              "50%    2009.000000    6.000000  ...         693.000000     717.500000\n",
              "75%    2014.000000    9.000000  ...         853.000000    1306.750000\n",
              "max    2019.000000   12.000000  ...        1628.000000    2626.000000\n",
              "\n",
              "[8 rows x 8 columns]"
            ]
          },
          "metadata": {
            "tags": []
          },
          "execution_count": 86
        }
      ]
    },
    {
      "cell_type": "markdown",
      "metadata": {
        "id": "mVsGO34Qb5fY"
      },
      "source": [
        "### Crimes contra o Patrimônio -  Veículos\n",
        "\n",
        "<img src=\"https://image.freepik.com/vetores-gratis/icone-de-carro-isometrico-isolado-no-branco_107791-128.jpg\">\n",
        "\n",
        "Crimes contra o patrimônio são considerados aqueles que envolvem prejuizo financeiro para a vítima. Esses são um dos crimes mais comuns nas grandes capitais e nesta seção entenderemos um pouco mais sobre a realidade de furtos a veiculos no Rio de Janeiro. São 3 variáveis que envolvem veículos:\n",
        "\n",
        "* `roubo_veiculo`\n",
        "* `furto_veiculos`\n",
        "* `recuperacao_veiculos`\n",
        "\n",
        "\n",
        "\n",
        "\n"
      ]
    },
    {
      "cell_type": "code",
      "metadata": {
        "colab": {
          "base_uri": "https://localhost:8080/"
        },
        "id": "1boEOozpj6zo",
        "outputId": "bba41514-fa70-4440-b44b-8cbef7d31ed7"
      },
      "source": [
        "media_furto_veiculo =  df.furto_veiculos.mean()\n",
        "print(\"Média de Furto de veículos por mês: \", round(media_furto_veiculo,2))"
      ],
      "execution_count": 87,
      "outputs": [
        {
          "output_type": "stream",
          "text": [
            "Média de Furto de veículos por mês:  1549.33\n"
          ],
          "name": "stdout"
        }
      ]
    },
    {
      "cell_type": "markdown",
      "metadata": {
        "id": "cudJqAjQkJuk"
      },
      "source": [
        "Furto é um crime onde um bem é extraído sem a presença da vítima, e como podemos ver há uma média de **1549 carros que são furtados por mês.**"
      ]
    },
    {
      "cell_type": "code",
      "metadata": {
        "colab": {
          "base_uri": "https://localhost:8080/"
        },
        "id": "4-NHii2ec7Ye",
        "outputId": "e5c3ce2d-a27d-4e5a-a312-eb472dcbdfa3"
      },
      "source": [
        "media_roubo_veiculo = df.roubo_veiculo.mean()\n",
        "print(\"Média de Roubo de veículos por mês: \",round(media_roubo_veiculo, 2))"
      ],
      "execution_count": 88,
      "outputs": [
        {
          "output_type": "stream",
          "text": [
            "Média de Roubo de veículos por mês:  2696.33\n"
          ],
          "name": "stdout"
        }
      ]
    },
    {
      "cell_type": "markdown",
      "metadata": {
        "id": "O0dyMVlEh1GN"
      },
      "source": [
        "Já o roubo é um crime onde há ameaça e violência com a vítima. Para esse cenário temos em média **2696 carros sendo roubados por mês.**\n",
        "\n",
        "Gráficamente podemos ver o comparativo de Roubo e Furtos."
      ]
    },
    {
      "cell_type": "code",
      "metadata": {
        "colab": {
          "base_uri": "https://localhost:8080/",
          "height": 283
        },
        "id": "nsIq3IGEE8Tj",
        "outputId": "71faa8f2-cd52-49f7-da46-29f9c773f1ea"
      },
      "source": [
        "x = np.arange(2)\n",
        "\n",
        "plt.title( 'Média Mensal de Roubo e Furto de Veículos', loc='center', fontsize=16)\n",
        "plt.bar(x, height=[df.furto_veiculos.mean(), df.roubo_veiculo.mean()], color='green', alpha=0.75)\n",
        "plt.xticks(x, ('Furto', 'Roubo'))\n",
        "plt.annotate('{:.0f}'.format(media_furto_veiculo), xy=(0,1250), xycoords='data', fontsize=22, horizontalalignment='center', color='white')\n",
        "plt.annotate('{:.0f}'.format(media_roubo_veiculo), xy=(1,2400), xycoords='data', fontsize=22, horizontalalignment='center', color='white')\n",
        "plt.show()\n"
      ],
      "execution_count": 89,
      "outputs": [
        {
          "output_type": "display_data",
          "data": {
            "image/png": "[encoded data removed]",
            "text/plain": [
              "<Figure size 432x288 with 1 Axes>"
            ]
          },
          "metadata": {
            "tags": []
          }
        }
      ]
    },
    {
      "cell_type": "markdown",
      "metadata": {
        "id": "qwZo35K2je_J"
      },
      "source": [
        "Como temos também a variável `recuperação_veiculos` podemos calcular a porcentagem de carros que são recuperados após o roubo e o furto usando a seguinte fórmula:\n",
        "\n",
        "  * $\\frac{\\text{recuperacao_veiculos}}{\\text{roubo_veiculo} + \\text{furto_veiculos}} *100 $\n",
        "\n"
      ]
    },
    {
      "cell_type": "code",
      "metadata": {
        "colab": {
          "base_uri": "https://localhost:8080/"
        },
        "id": "qlSYgKr5jcC6",
        "outputId": "a323c5a5-f677-493b-bb97-6aaba5d3c57c"
      },
      "source": [
        "media_recuperacao_veiculo = df.recuperacao_veiculos.mean()\n",
        "print(round(media_recuperacao_veiculo,2))\n",
        "\n",
        "porcentagem_recuperada = media_recuperacao_veiculo / (media_furto_veiculo + media_roubo_veiculo) *  100\n",
        "print('Porcentagem de veiculos recuparedos:' , round(porcentagem_recuperada,2), '%')"
      ],
      "execution_count": 90,
      "outputs": [
        {
          "output_type": "stream",
          "text": [
            "2091.06\n",
            "Porcentagem de veiculos recuparedos: 49.25 %\n"
          ],
          "name": "stdout"
        }
      ]
    },
    {
      "cell_type": "markdown",
      "metadata": {
        "id": "mecoCN0gm3CD"
      },
      "source": [
        "Como podemos ver acima, dos carro roubados **49.25% são recuperados pela polícia.**"
      ]
    },
    {
      "cell_type": "markdown",
      "metadata": {
        "id": "JHJnuq0InC8W"
      },
      "source": [
        "### Crimes contra a Vida\n",
        "\n",
        "Temos a variável `hom_doloso` que descreve as mortes que foram intencionais, para este crime a pena é de 6 a 20 anos de prisão. \n",
        "Para essa variável consultaremos a quantidade mínima, média e máxima de registros no período observado. \n",
        " \n",
        " "
      ]
    },
    {
      "cell_type": "code",
      "metadata": {
        "colab": {
          "base_uri": "https://localhost:8080/"
        },
        "id": "MAHLAfgznYSb",
        "outputId": "01ff3a84-cf78-48ed-ca7a-9cb1cbda9b7f"
      },
      "source": [
        "media_hom_doloso = df.hom_doloso.mean()\n",
        "min_hom_doloso = df.hom_doloso.min()\n",
        "max_hom_doloso = df.hom_doloso.max()\n",
        "print(\"\\tHomicídio doloso\")\n",
        "print(\"Mínimo:\", min_hom_doloso)\n",
        "print(\"Média :\", round(media_hom_doloso,2))\n",
        "print(\"Máximo:\", max_hom_doloso)"
      ],
      "execution_count": 91,
      "outputs": [
        {
          "output_type": "stream",
          "text": [
            "\tHomicídio doloso\n",
            "Mínimo: 272\n",
            "Média : 457.85\n",
            "Máximo: 682\n"
          ],
          "name": "stdout"
        }
      ]
    },
    {
      "cell_type": "markdown",
      "metadata": {
        "id": "AAzYMlx74VI_"
      },
      "source": [
        "Dados os resultados de mínima e máxima podemos nos aprofundar um pouco mais para entender melhor esses resultados."
      ]
    },
    {
      "cell_type": "code",
      "metadata": {
        "colab": {
          "base_uri": "https://localhost:8080/",
          "height": 80
        },
        "id": "hI7LxjSstKz1",
        "outputId": "4ee2cc7b-fe0e-4908-9027-b67b919b3960"
      },
      "source": [
        "df[ df.hom_doloso == min_hom_doloso]"
      ],
      "execution_count": 92,
      "outputs": [
        {
          "output_type": "execute_result",
          "data": {
            "text/html": [
              "<div>\n",
              "<style scoped>\n",
              "    .dataframe tbody tr th:only-of-type {\n",
              "        vertical-align: middle;\n",
              "    }\n",
              "\n",
              "    .dataframe tbody tr th {\n",
              "        vertical-align: top;\n",
              "    }\n",
              "\n",
              "    .dataframe thead th {\n",
              "        text-align: right;\n",
              "    }\n",
              "</style>\n",
              "<table border=\"1\" class=\"dataframe\">\n",
              "  <thead>\n",
              "    <tr style=\"text-align: right;\">\n",
              "      <th></th>\n",
              "      <th>vano</th>\n",
              "      <th>mes</th>\n",
              "      <th>furto_veiculos</th>\n",
              "      <th>roubo_veiculo</th>\n",
              "      <th>recuperacao_veiculos</th>\n",
              "      <th>hom_doloso</th>\n",
              "      <th>roubo_em_coletivo</th>\n",
              "      <th>roubo_celular</th>\n",
              "    </tr>\n",
              "  </thead>\n",
              "  <tbody>\n",
              "    <tr>\n",
              "      <th>293</th>\n",
              "      <td>2015</td>\n",
              "      <td>6</td>\n",
              "      <td>1333</td>\n",
              "      <td>2254</td>\n",
              "      <td>1768</td>\n",
              "      <td>272</td>\n",
              "      <td>619</td>\n",
              "      <td>896.0</td>\n",
              "    </tr>\n",
              "  </tbody>\n",
              "</table>\n",
              "</div>"
            ],
            "text/plain": [
              "     vano  mes  furto_veiculos  ...  hom_doloso  roubo_em_coletivo  roubo_celular\n",
              "293  2015    6            1333  ...         272                619          896.0\n",
              "\n",
              "[1 rows x 8 columns]"
            ]
          },
          "metadata": {
            "tags": []
          },
          "execution_count": 92
        }
      ]
    },
    {
      "cell_type": "code",
      "metadata": {
        "colab": {
          "base_uri": "https://localhost:8080/",
          "height": 80
        },
        "id": "NdRLiOMNtcM5",
        "outputId": "e819733b-d140-4184-d968-6699ea69d73d"
      },
      "source": [
        "df[ df.hom_doloso == max_hom_doloso]"
      ],
      "execution_count": 93,
      "outputs": [
        {
          "output_type": "execute_result",
          "data": {
            "text/html": [
              "<div>\n",
              "<style scoped>\n",
              "    .dataframe tbody tr th:only-of-type {\n",
              "        vertical-align: middle;\n",
              "    }\n",
              "\n",
              "    .dataframe tbody tr th {\n",
              "        vertical-align: top;\n",
              "    }\n",
              "\n",
              "    .dataframe thead th {\n",
              "        text-align: right;\n",
              "    }\n",
              "</style>\n",
              "<table border=\"1\" class=\"dataframe\">\n",
              "  <thead>\n",
              "    <tr style=\"text-align: right;\">\n",
              "      <th></th>\n",
              "      <th>vano</th>\n",
              "      <th>mes</th>\n",
              "      <th>furto_veiculos</th>\n",
              "      <th>roubo_veiculo</th>\n",
              "      <th>recuperacao_veiculos</th>\n",
              "      <th>hom_doloso</th>\n",
              "      <th>roubo_em_coletivo</th>\n",
              "      <th>roubo_celular</th>\n",
              "    </tr>\n",
              "  </thead>\n",
              "  <tbody>\n",
              "    <tr>\n",
              "      <th>170</th>\n",
              "      <td>2005</td>\n",
              "      <td>3</td>\n",
              "      <td>1811</td>\n",
              "      <td>3056</td>\n",
              "      <td>2459</td>\n",
              "      <td>682</td>\n",
              "      <td>811</td>\n",
              "      <td>553.0</td>\n",
              "    </tr>\n",
              "  </tbody>\n",
              "</table>\n",
              "</div>"
            ],
            "text/plain": [
              "     vano  mes  furto_veiculos  ...  hom_doloso  roubo_em_coletivo  roubo_celular\n",
              "170  2005    3            1811  ...         682                811          553.0\n",
              "\n",
              "[1 rows x 8 columns]"
            ]
          },
          "metadata": {
            "tags": []
          },
          "execution_count": 93
        }
      ]
    },
    {
      "cell_type": "markdown",
      "metadata": {
        "id": "TbVm-cRoo2ef"
      },
      "source": [
        "De toda a base histórica que estamos analisando, isto é, desde 2000, a menor quantidade de homícios contabilizados foi em junho de 2015 com 272 mortos e maior quantidade foi em março de 2005, totalizando  682, e na média geral são contabilizados 457 novos homicídios por mês!"
      ]
    },
    {
      "cell_type": "markdown",
      "metadata": {
        "id": "lW2npnrkARJ9"
      },
      "source": [
        "## Visualização de Dados \n",
        "<img src=\"https://img.freepik.com/vetores-gratis/grafico-de-barras-colorido-ascendente-em-3d-em-uma-tela-de-toque-de-tablet-que-descreve-analises-on-line-moveis-com-uma-ilustracao-vetorial-de-modelo-de-caixa-de-texto_1284-43089.jpg?size=338&ext=jpg\"> \n",
        "\n",
        "A visualização dos dados é uma das partes de uma análise que possibilita de maneira mais clara entender como os dados se comportam, para isso analisaremos os homicídios dolosos através do histograma para entender como a distribuição dos dados se comportam.\n",
        "\n",
        " Um histograma é uma poderosa ferramenta de visualização que nos permite enxergar a distribuição dos dados. Em seu eixo x ela é divida em alguns intervalos, já no eixo y é representado a quantidade absoluta de ocorrência dessas classes."
      ]
    },
    {
      "cell_type": "code",
      "metadata": {
        "id": "upX4yegerH2_"
      },
      "source": [
        "mpl.rcParams['axes.spines.left'] = False\n"
      ],
      "execution_count": 94,
      "outputs": []
    },
    {
      "cell_type": "code",
      "metadata": {
        "colab": {
          "base_uri": "https://localhost:8080/",
          "height": 337
        },
        "id": "v1Ykz-K2rxR3",
        "outputId": "2a84651b-ee70-455f-b30c-2f4c35e9980b"
      },
      "source": [
        "plt.figure(figsize=(7,5))\n",
        "plt.title(\"Homicídio doloso\")\n",
        "plt.hist(df.hom_doloso, facecolor='g', alpha=0.75)\n",
        "plt.tick_params(axis='both', which='both', bottom=False, top=False, labelbottom=True, left=False, labelleft = False)\n",
        "plt.show();"
      ],
      "execution_count": 95,
      "outputs": [
        {
          "output_type": "display_data",
          "data": {
            "image/png": "[encoded data removed]",
            "text/plain": [
              "<Figure size 504x360 with 1 Axes>"
            ]
          },
          "metadata": {
            "tags": []
          }
        }
      ]
    },
    {
      "cell_type": "markdown",
      "metadata": {
        "id": "wxjFzaln_nlj"
      },
      "source": [
        "Alguns pontos interessantes que o gráfico nos mostra:\n",
        "* Houveram por volta de 45 meses em que foram registrandos 550 Homicídios dolosos.\n",
        "* Houveram menos de 10 meses em que estava a baixo dos 300 registros de Homicídio doloso."
      ]
    },
    {
      "cell_type": "markdown",
      "metadata": {
        "id": "TiCcwPv2dNOQ"
      },
      "source": [
        "O gráfico de linhas é outra ótima ferramenta que pode nos ajudar a visualisar os acontecimentos em uma linha do tempo. "
      ]
    },
    {
      "cell_type": "code",
      "metadata": {
        "id": "4vkTEkx4rMrW"
      },
      "source": [
        "mpl.rcParams['axes.spines.left'] = True\n",
        "plt.style.use(\"ggplot\")"
      ],
      "execution_count": 96,
      "outputs": []
    },
    {
      "cell_type": "code",
      "metadata": {
        "colab": {
          "base_uri": "https://localhost:8080/",
          "height": 352
        },
        "id": "nZL-1zHfOO6J",
        "outputId": "fa8d816e-4189-4c5e-ec19-9a7bb8d6d8ff"
      },
      "source": [
        "plt.figure(figsize=(9,5))\n",
        "plt.title(\"Total de Homícidios por Ano\")\n",
        "plt.plot((df.groupby(['vano']).sum())['hom_doloso'], 'g');\n",
        "plt.xticks(ticks= df.vano.unique(), rotation=45 )\n",
        "plt.ylabel(\"Quantidade\")\n",
        "plt.show();"
      ],
      "execution_count": 97,
      "outputs": [
        {
          "output_type": "display_data",
          "data": {
            "image/png": "[encoded data removed]",
            "text/plain": [
              "<Figure size 648x360 with 1 Axes>"
            ]
          },
          "metadata": {
            "tags": []
          }
        }
      ]
    },
    {
      "cell_type": "markdown",
      "metadata": {
        "id": "71ECSV-ydJE_"
      },
      "source": [
        "Podemos observar como a taxa de homicídios anual estava alta no início dos anos 2000 e como caiu drásticamente em 2019. A quantidade é a menor histórica dos últimos 19 anos. \n",
        "\n",
        "Podemos agrupar as nossas informações por meses para saber se há algum mês específico em que os relatos deste crime aumenta."
      ]
    },
    {
      "cell_type": "code",
      "metadata": {
        "colab": {
          "base_uri": "https://localhost:8080/",
          "height": 371
        },
        "id": "CzwKpQVATC2S",
        "outputId": "2ed65928-baa9-41f6-ec08-a24aefee319f"
      },
      "source": [
        "meses = ['Janeiro', 'Fevereiro', 'Março', 'Abril', 'Maio', 'Junho', 'Julho', 'Agosto','Setembro','Outubro','Novembro','Dezembro']\n",
        "\n",
        "plt.figure(figsize=(9,5))\n",
        "plt.title(\"Média de Homícidios por mês\")\n",
        "plt.plot( df.groupby('mes').mean()['hom_doloso'], 'g')\n",
        "plt.xticks([x+1 for x in range( len(meses) )], meses, rotation=45)\n",
        "plt.show();"
      ],
      "execution_count": 98,
      "outputs": [
        {
          "output_type": "display_data",
          "data": {
            "image/png": "[encoded data removed]",
            "text/plain": [
              "<Figure size 648x360 with 1 Axes>"
            ]
          },
          "metadata": {
            "tags": []
          }
        }
      ]
    },
    {
      "cell_type": "markdown",
      "metadata": {
        "id": "Xk1VIsYtC3am"
      },
      "source": [
        "Segundo a média mensal de homicídios podemos observar através desse agrupamento que os meses de Março e Julho são os meses que tem respectivamente a maior e menor quantidade deste tipo de relato."
      ]
    },
    {
      "cell_type": "markdown",
      "metadata": {
        "id": "HVwve-zJ4O64"
      },
      "source": [
        "Agora, e quanto aos **roubos em coletivos?** A realidade é que a maioria dos brasileiros enfrentam cada vez mais horas e horas em coletivos todos os dias, indo e voltando do trabalho. Será que com o passar do tempo, esse tipo de crime aumentou ou diminuiu no Rio de Janeiro?"
      ]
    },
    {
      "cell_type": "code",
      "metadata": {
        "colab": {
          "base_uri": "https://localhost:8080/",
          "height": 370
        },
        "id": "ZE-_8f5CDYyR",
        "outputId": "3657a535-6799-4bab-fb27-17bfcc1d9a58"
      },
      "source": [
        "fig, (ax1, ax2) = plt.subplots(1,2, figsize=(20,5))\n",
        "\n",
        "ax1.plot(df.groupby(['vano']).sum().roubo_em_coletivo, 'g')\n",
        "ax1.set(title=\"Total de Roubos de Coletivos por ano\")\n",
        "ax1.set_xticks([ x+(df.vano.unique()[0] ) for x in range( len(df.vano.unique()) ) ])\n",
        "ax1.set_xticklabels(df.vano.unique(), rotation=45)\n",
        "\n",
        "ax2.plot( df.groupby(['mes']).mean().roubo_em_coletivo, 'g' ) \n",
        "ax2.set( title=\"Média mensal de Roubos de Coletivos\" )\n",
        "ax2.set_xticks( [x for x in range( len(df.mes.unique()) )] )\n",
        "ax2.set_xticklabels( meses, rotation=45 )\n",
        "\n",
        "plt.show()"
      ],
      "execution_count": 99,
      "outputs": [
        {
          "output_type": "display_data",
          "data": {
            "image/png": "[encoded data removed]",
            "text/plain": [
              "<Figure size 1440x360 with 2 Axes>"
            ]
          },
          "metadata": {
            "tags": []
          }
        }
      ]
    },
    {
      "cell_type": "markdown",
      "metadata": {
        "id": "aHAz-F04DNS-"
      },
      "source": [
        "Com pouco mais de 8000 relatos anuais no início do século XXI e por volta de 16000 no penúltimo ano registrado podemos afirmar que este tipo de crime **tem aumentado vertiginosamente**, ainda mais considerando que este valor atual é o maior de todos os tempos! O Mês que há um pico de relatos é no mês de junho."
      ]
    },
    {
      "cell_type": "code",
      "metadata": {
        "colab": {
          "base_uri": "https://localhost:8080/",
          "height": 371
        },
        "id": "WlR8hyzyEhlD",
        "outputId": "924eac2c-87fd-45d9-f1ff-8cd417c889f8"
      },
      "source": [
        "fig, (ax1, ax2) = plt.subplots(1,2, figsize=(20,5))\n",
        "\n",
        "ax1.plot(df.groupby(['vano']).mean().roubo_veiculo, 'g')\n",
        "ax1.set(title=\"Média de roubo de Veículos por Ano\")\n",
        "ax1.set_xticks( [x+df.vano.unique()[0] for x in range( len( df.vano.unique() ) )] )\n",
        "ax1.set_xticklabels( df.vano.unique(), rotation=45)\n",
        "\n",
        "ax2.plot(df.groupby(['mes']).mean().roubo_veiculo, 'g')\n",
        "ax2.set(title=\"Média de roubo de Veículos por Mês\")\n",
        "ax2.set_xticks([x+1 for x in range( len( df.mes.unique() ) )])\n",
        "ax2.set_xticklabels(meses, rotation=45)\n",
        "\n",
        "plt.show()"
      ],
      "execution_count": 100,
      "outputs": [
        {
          "output_type": "display_data",
          "data": {
            "image/png": "[encoded data removed]",
            "text/plain": [
              "<Figure size 1440x360 with 2 Axes>"
            ]
          },
          "metadata": {
            "tags": []
          }
        }
      ]
    },
    {
      "cell_type": "markdown",
      "metadata": {
        "id": "bH1UNMVP6ksU"
      },
      "source": [
        "Para os roubos a veículos o aumento também é fácilmente detectado e embora em relação ao útilmo ano tenha caido um pouco, no geral ainda esta maior que no início do século. Outro fator interessante que podemos observar é que o mês do ano onde há o maior número dessa ocorrência é no mês de março."
      ]
    },
    {
      "cell_type": "code",
      "metadata": {
        "colab": {
          "base_uri": "https://localhost:8080/",
          "height": 371
        },
        "id": "tYQ1mqNlQZnP",
        "outputId": "8d91bf50-60eb-4c07-b37d-d5aeb59beea5"
      },
      "source": [
        "fig, (ax1, ax2) = plt.subplots(1,2, figsize=(20,5))\n",
        "\n",
        "ax1.plot(df.groupby(['vano']).sum().roubo_celular, 'g')\n",
        "ax1.set(title=\"Total de Roubo de Celular por Ano\")\n",
        "ax1.set_xticks( [x+df.vano.unique()[0] for x in range( len( df.vano.unique() ) )] )\n",
        "ax1.set_xticklabels( df.vano.unique(), rotation=45)\n",
        "\n",
        "ax2.plot(df.groupby(['mes']).mean().roubo_celular, 'g')\n",
        "ax2.set(title=\"Média de roubo de Celular por Mês\")\n",
        "ax2.set_xticks([x+1 for x in range( len( df.mes.unique() ) )])\n",
        "ax2.set_xticklabels(meses, rotation=45)\n",
        "\n",
        "plt.show()"
      ],
      "execution_count": 101,
      "outputs": [
        {
          "output_type": "display_data",
          "data": {
            "image/png": "[encoded data removed]",
            "text/plain": [
              "<Figure size 1440x360 with 2 Axes>"
            ]
          },
          "metadata": {
            "tags": []
          }
        }
      ]
    },
    {
      "cell_type": "markdown",
      "metadata": {
        "id": "RblClC0UFFd9"
      },
      "source": [
        "Outra variável que é interessante de se observar é o roubo de celulares, esse tipo de roubo cresceu absurdamente nos últimos tempos! O mês de Maio é o preferido pelos ladrões para esse tipo de crime.\n",
        "\n",
        "Muito se deve a popularização dos aparelhos vendidos no Brasil. Onde antes dos anos 2000 não haviam sequer registros desses crimes, hoje alcança sua marca histórica.\n",
        "\n",
        "---\n",
        "\n"
      ]
    },
    {
      "cell_type": "markdown",
      "metadata": {
        "id": "xSg5wnObAbdC"
      },
      "source": [
        "## Conclusão"
      ]
    },
    {
      "cell_type": "markdown",
      "metadata": {
        "id": "SpopYOdG-KAo"
      },
      "source": [
        "Embora o Rio de Janeiro tenha ótimos lugares turísticos para se visitar, não é um dos locais mais calmos e seguros do mundo.\n",
        "\n",
        "Através deste notebook foi possível constatar que a maioria dos crimes que envolvem roubo ou furto contra patrimonio ou a coletivo apresentaram um aumento no número de registros. Se por um lado temos uma tristeza, por outro lado, os homocídios apresentaram uma queda expressiva desde o início dos anos 2000.\n",
        "\n",
        "Saber interpretar informações estatíticas, analisar hipóteses e agrupar dados com fim de construir uma visualização são tarefas úteis que agregam muito em uma análise exploratória de dados e aqui ela pode ser bem exercitada.\n",
        "\n",
        "Pudemos perceber de maneira prática que a etapa de aquisição, tratamento e análise de dados são fases importantes que devemos despreender um bom tempo neste processo afim de trazer uma maior qualidade para as próximas etapas de um projeto. \n",
        "\n",
        "\n",
        " "
      ]
    }
  ]
}